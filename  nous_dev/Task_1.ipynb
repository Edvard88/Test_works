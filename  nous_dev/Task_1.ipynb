version https://git-lfs.github.com/spec/v1
oid sha256:b4f01372a8f81cff38fc01d17bf49f06ac431bea0c8c9c1aa459c3428aae45dc
size 675412
