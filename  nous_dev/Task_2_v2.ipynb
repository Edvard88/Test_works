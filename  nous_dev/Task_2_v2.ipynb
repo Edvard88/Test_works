version https://git-lfs.github.com/spec/v1
oid sha256:280593d9cd64d150dac4240b1930939c4346228e4a16ceb0a5297ff055f9d5fa
size 77009
