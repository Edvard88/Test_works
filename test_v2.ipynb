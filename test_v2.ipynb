{
 "cells": [
  {
   "cell_type": "markdown",
   "metadata": {},
   "source": [
    "# <center>Тестовое задание</center>\n",
    "<center> Автор: Польников Эдуард"
   ]
  },
  {
   "cell_type": "markdown",
   "metadata": {},
   "source": [
    "**Бизнес задача:**<br>\n",
    "В компании телеком наблюдается отток пользователей. Это всегда плохо для бизнеса, тк  компания теряет прибыль.<br> Хочется понимать, какие пользователи уйдут и далее стимулировать их остаться."
   ]
  },
  {
   "cell_type": "markdown",
   "metadata": {},
   "source": [
    "**Техническая задача:**<br>\n",
    "Дана выгрузка пользователей за 3 месяца: возраст, штат, история звонков, обращения в службу поддержки и тд... <br>\n",
    "Также известно какие пользователи ушли, какие остались.<br>\n",
    "Нужно на основании этих данных построить классификатор, который будет предсказывать какие пользователи уйдут, какие останутся.<br>"
   ]
  },
  {
   "cell_type": "markdown",
   "metadata": {},
   "source": [
    "**Содержание**<br>\n",
    "1. Описание набора данных и признаков<br>\n",
    "    1.1 Признаки<br>\n",
    "2. Первичный анализ признаков<br>\n",
    "3. Первичный визуальный анализ признаков<br>\n",
    "4. Закономерности, \"инсайты\", особенности данных<br>\n",
    "5. Выбор метрики и ее обоснование<br>\n",
    "6. Предобработка данных<br>\n",
    "7. Выбор модели и baseline<br>\n",
    "    7.1 Выбор модели<br>\n",
    "    7.2 Baseline для модели<br>\n",
    "8. Кросс-валидация и настройка гиперпараметров модели<br>\n",
    "9. Создание новых признаков и описание этого процесса <br>\n",
    "10. Построение кривых валидации и обучения<br>\n",
    "11. Прогноз на отложенной выборке<br>\n",
    "12. Результаты работы<br>\n",
    "13. Что можно сделать еще<br>"
   ]
  },
  {
   "cell_type": "markdown",
   "metadata": {},
   "source": [
    "**Решение**"
   ]
  },
  {
   "cell_type": "code",
   "execution_count": 50,
   "metadata": {},
   "outputs": [
    {
     "name": "stdout",
     "output_type": "stream",
     "text": [
      "Populating the interactive namespace from numpy and matplotlib\n"
     ]
    }
   ],
   "source": [
    "#Отключим предупреждения Anaconda\n",
    "import warnings\n",
    "warnings.simplefilter('ignore')\n",
    "\n",
    "# Подключаем графические модули:\n",
    "# будем отображать графики прямо в jupyter'e\n",
    "%matplotlib inline\n",
    "import seaborn as sns\n",
    "import matplotlib.pyplot as plt\n",
    "\n",
    "# будем отображать графики прямо в jupyter'e\n",
    "%pylab inline\n",
    "\n",
    "#графики в svg выглядят более четкими\n",
    "#%config InlineBackend.figure_format = 'svg' \n",
    "\n",
    "#увеличим дефолтный размер графиков\n",
    "from pylab import rcParams\n",
    "rcParams['figure.figsize'] = 8, 5\n",
    "from matplotlib import pyplot\n",
    "\n",
    "\n",
    "#Подключаем модули для работы с ML\n",
    "import numpy as np\n",
    "import pandas as pd\n",
    "\n",
    "#Для моделей\n",
    "from sklearn.model_selection import train_test_split, cross_val_score, GridSearchCV, TimeSeriesSplit\n",
    "from sklearn.metrics import mean_squared_error\n",
    "\n",
    "from scipy import stats\n",
    "\n",
    "\n",
    "from sklearn.preprocessing import OneHotEncoder, StandardScaler\n",
    "from sklearn.dummy import DummyClassifier\n",
    "from sklearn.linear_model import LogisticRegression\n",
    "from sklearn.neighbors import KNeighborsClassifier\n",
    "from sklearn.ensemble import RandomForestClassifier\n",
    "from sklearn.ensemble import GradientBoostingClassifier\n",
    "from sklearn.svm import SVC\n",
    "from sklearn.pipeline import Pipeline\n",
    "\n",
    "from sklearn.learning_curve import validation_curve\n",
    "from sklearn.learning_curve import learning_curve\n",
    "from sklearn.metrics import accuracy_score ,roc_auc_score"
   ]
  },
  {
   "cell_type": "markdown",
   "metadata": {},
   "source": [
    "# 1. Описание набора данных и признаков"
   ]
  },
  {
   "cell_type": "code",
   "execution_count": 51,
   "metadata": {},
   "outputs": [
    {
     "name": "stdout",
     "output_type": "stream",
     "text": [
      "CPU times: user 176 ms, sys: 16 ms, total: 192 ms\n",
      "Wall time: 190 ms\n"
     ]
    }
   ],
   "source": [
    "%%time\n",
    "#Считываем данные и отобразим первые столбцы\n",
    "df = pd.read_csv('telco-customer-churn.csv')"
   ]
  },
  {
   "cell_type": "code",
   "execution_count": 52,
   "metadata": {},
   "outputs": [
    {
     "data": {
      "text/html": [
       "<div>\n",
       "<style scoped>\n",
       "    .dataframe tbody tr th:only-of-type {\n",
       "        vertical-align: middle;\n",
       "    }\n",
       "\n",
       "    .dataframe tbody tr th {\n",
       "        vertical-align: top;\n",
       "    }\n",
       "\n",
       "    .dataframe thead th {\n",
       "        text-align: right;\n",
       "    }\n",
       "</style>\n",
       "<table border=\"1\" class=\"dataframe\">\n",
       "  <thead>\n",
       "    <tr style=\"text-align: right;\">\n",
       "      <th></th>\n",
       "      <th>age</th>\n",
       "      <th>annualincome</th>\n",
       "      <th>calldroprate</th>\n",
       "      <th>callfailurerate</th>\n",
       "      <th>callingnum</th>\n",
       "      <th>customerid</th>\n",
       "      <th>customersuspended</th>\n",
       "      <th>education</th>\n",
       "      <th>gender</th>\n",
       "      <th>homeowner</th>\n",
       "      <th>...</th>\n",
       "      <th>totalminsusedinlastmonth</th>\n",
       "      <th>unpaidbalance</th>\n",
       "      <th>usesinternetservice</th>\n",
       "      <th>usesvoiceservice</th>\n",
       "      <th>percentagecalloutsidenetwork</th>\n",
       "      <th>totalcallduration</th>\n",
       "      <th>avgcallduration</th>\n",
       "      <th>churn</th>\n",
       "      <th>year</th>\n",
       "      <th>month</th>\n",
       "    </tr>\n",
       "  </thead>\n",
       "  <tbody>\n",
       "    <tr>\n",
       "      <th>0</th>\n",
       "      <td>12</td>\n",
       "      <td>168147</td>\n",
       "      <td>0.06</td>\n",
       "      <td>0.00</td>\n",
       "      <td>4251078442</td>\n",
       "      <td>1</td>\n",
       "      <td>Yes</td>\n",
       "      <td>Bachelor or equivalent</td>\n",
       "      <td>Male</td>\n",
       "      <td>Yes</td>\n",
       "      <td>...</td>\n",
       "      <td>15</td>\n",
       "      <td>19</td>\n",
       "      <td>No</td>\n",
       "      <td>No</td>\n",
       "      <td>0.82</td>\n",
       "      <td>5971</td>\n",
       "      <td>663</td>\n",
       "      <td>0</td>\n",
       "      <td>2015</td>\n",
       "      <td>1</td>\n",
       "    </tr>\n",
       "    <tr>\n",
       "      <th>1</th>\n",
       "      <td>12</td>\n",
       "      <td>168147</td>\n",
       "      <td>0.06</td>\n",
       "      <td>0.00</td>\n",
       "      <td>4251078442</td>\n",
       "      <td>1</td>\n",
       "      <td>Yes</td>\n",
       "      <td>Bachelor or equivalent</td>\n",
       "      <td>Male</td>\n",
       "      <td>Yes</td>\n",
       "      <td>...</td>\n",
       "      <td>15</td>\n",
       "      <td>19</td>\n",
       "      <td>No</td>\n",
       "      <td>No</td>\n",
       "      <td>0.82</td>\n",
       "      <td>3981</td>\n",
       "      <td>995</td>\n",
       "      <td>0</td>\n",
       "      <td>2015</td>\n",
       "      <td>2</td>\n",
       "    </tr>\n",
       "    <tr>\n",
       "      <th>2</th>\n",
       "      <td>42</td>\n",
       "      <td>29047</td>\n",
       "      <td>0.05</td>\n",
       "      <td>0.01</td>\n",
       "      <td>4251043419</td>\n",
       "      <td>2</td>\n",
       "      <td>Yes</td>\n",
       "      <td>Bachelor or equivalent</td>\n",
       "      <td>Female</td>\n",
       "      <td>Yes</td>\n",
       "      <td>...</td>\n",
       "      <td>212</td>\n",
       "      <td>34</td>\n",
       "      <td>No</td>\n",
       "      <td>Yes</td>\n",
       "      <td>0.27</td>\n",
       "      <td>7379</td>\n",
       "      <td>737</td>\n",
       "      <td>0</td>\n",
       "      <td>2015</td>\n",
       "      <td>1</td>\n",
       "    </tr>\n",
       "    <tr>\n",
       "      <th>3</th>\n",
       "      <td>42</td>\n",
       "      <td>29047</td>\n",
       "      <td>0.05</td>\n",
       "      <td>0.01</td>\n",
       "      <td>4251043419</td>\n",
       "      <td>2</td>\n",
       "      <td>Yes</td>\n",
       "      <td>Bachelor or equivalent</td>\n",
       "      <td>Female</td>\n",
       "      <td>Yes</td>\n",
       "      <td>...</td>\n",
       "      <td>212</td>\n",
       "      <td>34</td>\n",
       "      <td>No</td>\n",
       "      <td>Yes</td>\n",
       "      <td>0.27</td>\n",
       "      <td>1729</td>\n",
       "      <td>432</td>\n",
       "      <td>0</td>\n",
       "      <td>2015</td>\n",
       "      <td>2</td>\n",
       "    </tr>\n",
       "    <tr>\n",
       "      <th>4</th>\n",
       "      <td>58</td>\n",
       "      <td>27076</td>\n",
       "      <td>0.07</td>\n",
       "      <td>0.02</td>\n",
       "      <td>4251055773</td>\n",
       "      <td>3</td>\n",
       "      <td>Yes</td>\n",
       "      <td>Master or equivalent</td>\n",
       "      <td>Female</td>\n",
       "      <td>Yes</td>\n",
       "      <td>...</td>\n",
       "      <td>216</td>\n",
       "      <td>144</td>\n",
       "      <td>No</td>\n",
       "      <td>No</td>\n",
       "      <td>0.48</td>\n",
       "      <td>3122</td>\n",
       "      <td>624</td>\n",
       "      <td>0</td>\n",
       "      <td>2015</td>\n",
       "      <td>1</td>\n",
       "    </tr>\n",
       "  </tbody>\n",
       "</table>\n",
       "<p>5 rows × 29 columns</p>\n",
       "</div>"
      ],
      "text/plain": [
       "   age  annualincome  calldroprate  callfailurerate  callingnum  customerid  \\\n",
       "0   12        168147          0.06             0.00  4251078442           1   \n",
       "1   12        168147          0.06             0.00  4251078442           1   \n",
       "2   42         29047          0.05             0.01  4251043419           2   \n",
       "3   42         29047          0.05             0.01  4251043419           2   \n",
       "4   58         27076          0.07             0.02  4251055773           3   \n",
       "\n",
       "  customersuspended               education  gender homeowner  ...    \\\n",
       "0               Yes  Bachelor or equivalent    Male       Yes  ...     \n",
       "1               Yes  Bachelor or equivalent    Male       Yes  ...     \n",
       "2               Yes  Bachelor or equivalent  Female       Yes  ...     \n",
       "3               Yes  Bachelor or equivalent  Female       Yes  ...     \n",
       "4               Yes    Master or equivalent  Female       Yes  ...     \n",
       "\n",
       "  totalminsusedinlastmonth  unpaidbalance usesinternetservice  \\\n",
       "0                       15             19                  No   \n",
       "1                       15             19                  No   \n",
       "2                      212             34                  No   \n",
       "3                      212             34                  No   \n",
       "4                      216            144                  No   \n",
       "\n",
       "   usesvoiceservice  percentagecalloutsidenetwork  totalcallduration  \\\n",
       "0                No                          0.82               5971   \n",
       "1                No                          0.82               3981   \n",
       "2               Yes                          0.27               7379   \n",
       "3               Yes                          0.27               1729   \n",
       "4                No                          0.48               3122   \n",
       "\n",
       "  avgcallduration  churn  year  month  \n",
       "0             663      0  2015      1  \n",
       "1             995      0  2015      2  \n",
       "2             737      0  2015      1  \n",
       "3             432      0  2015      2  \n",
       "4             624      0  2015      1  \n",
       "\n",
       "[5 rows x 29 columns]"
      ]
     },
     "execution_count": 52,
     "metadata": {},
     "output_type": "execute_result"
    }
   ],
   "source": [
    "df.head(5)"
   ]
  },
  {
   "cell_type": "markdown",
   "metadata": {},
   "source": [
    "### 1.1 Признаки"
   ]
  },
  {
   "cell_type": "markdown",
   "metadata": {},
   "source": [
    "Всего три типа признаков **binary** - бинарный, **numeric** - численный и **nominal** - категориальный. <br>\n",
    "\n",
    "**age** - возраст пользователя (numeric: от 15 до 79) <br>\n",
    "**annualincome** - годовой доход (numeric: от 4 до 249987) <br>\n",
    "**calldroprate** - доля брошенных звонков (numeric: от 0.0 до 0.07) <br>\n",
    "**callfailurerate** - доля звонков, которые не произошли по ошибке оператора (numeric: от 0.0 до 0.03) <br>\n",
    "**callingnum** - телефонный номер (тип numeric) <br>\n",
    "**customerid** - id пользователя (тип numeric) <br>\n",
    "**customersuspended** - приостановленный клиент или нет (binary: Yes or No) <br>\n",
    "**education** - образование (nominal:'Bachelor or equivalent', 'Master or equivalent', 'PhD or equivalent', 'High School or below') <br>\n",
    "**gender** - пол (binary: 'Male', 'Female') <br>\n",
    "**homeowner** - владение жильем (binary: Yes or No) <br>\n",
    "**maritalstatus** - семейный статус (binary: 'Single', 'Married') <br>\n",
    "**monthlybilledamount** - ежемесячный платежный счет (numeric: от 0 до 119) <br>\n",
    "**noadditionallines** - дополнительные строки о клиенте (nominal: '\\N' ) <br>\n",
    "**numberofcomplaints** - количество жалоб в сервисный центр (numeric: от 0 до 3) <br>\n",
    "**numberofmonthunpaid** - количество неоплаченных месяцев (numeric: от 0 до 7)<br>\n",
    "**numdayscontractequipmentplanexpiring** - количество дней через сколько истекает срок действия контракта (numeric: от 0 до 99)<br>\n",
    "**occupation** - должность (nominal:'Technology Related Job', 'Non-technology Related Job', 'Others')<br>\n",
    "**penaltytoswitch** - штраф за переключение (numeric: от 0 до 499)<br>\n",
    "**state** - штат (nominal: аббревиатура штата, всего 50шт)<br>\n",
    "**totalminsusedinlastmonth** - общее количество минут в прошлом месяце (numeric: от 0 до 499)<br>\n",
    "**unpaidbalance** - неоплаченный баланс (numeric: от 0 до 249)<br>\n",
    "**usesinternetservice** - использует интернет-сервис (binary: Yes or No)<br>\n",
    "**usesvoiceservice** - использует голосовой-сервис (binary: Yes or No)<br>\n",
    "**percentagecalloutsidenetwork** - проценты звонков вне сети (numeric: от 0 до 499)<br>\n",
    "**totalcallduration** - общая длительность звонков (numeric: от 0 до 0.99)<br>\n",
    "**avgcallduration** - средняя длительность звонков (numeric: от 0 до 1439)<br>\n",
    "**year** - год (numeric: 2015)<br>\n",
    "**month** - месяц (numeric: от 1 до 3)<br>\n",
    "**churn** - целевая переменная, 0 - пользователь не попал в отток, 1 - пользователь попал в отток.\n",
    "\n",
    "Всего признаков: 29<br>\n",
    "Количество данных: 20468"
   ]
  },
  {
   "cell_type": "markdown",
   "metadata": {},
   "source": [
    "# 2. Первичный анализ признаков\n"
   ]
  },
  {
   "cell_type": "code",
   "execution_count": 53,
   "metadata": {},
   "outputs": [
    {
     "name": "stdout",
     "output_type": "stream",
     "text": [
      "Размер датасета: (20468, 29)\n"
     ]
    }
   ],
   "source": [
    "# Посмотрим размер датасета и пропущенные значения.\n",
    "print(\"Размер датасета:\", df.shape)"
   ]
  },
  {
   "cell_type": "code",
   "execution_count": 54,
   "metadata": {
    "scrolled": true
   },
   "outputs": [
    {
     "name": "stdout",
     "output_type": "stream",
     "text": [
      "<class 'pandas.core.frame.DataFrame'>\n",
      "RangeIndex: 20468 entries, 0 to 20467\n",
      "Data columns (total 29 columns):\n",
      "age                                     20468 non-null int64\n",
      "annualincome                            20468 non-null int64\n",
      "calldroprate                            20468 non-null float64\n",
      "callfailurerate                         20468 non-null float64\n",
      "callingnum                              20468 non-null int64\n",
      "customerid                              20468 non-null int64\n",
      "customersuspended                       20468 non-null object\n",
      "education                               20468 non-null object\n",
      "gender                                  20468 non-null object\n",
      "homeowner                               20468 non-null object\n",
      "maritalstatus                           20468 non-null object\n",
      "monthlybilledamount                     20468 non-null int64\n",
      "noadditionallines                       20468 non-null object\n",
      "numberofcomplaints                      20468 non-null int64\n",
      "numberofmonthunpaid                     20468 non-null int64\n",
      "numdayscontractequipmentplanexpiring    20468 non-null int64\n",
      "occupation                              20468 non-null object\n",
      "penaltytoswitch                         20468 non-null int64\n",
      "state                                   20468 non-null object\n",
      "totalminsusedinlastmonth                20468 non-null int64\n",
      "unpaidbalance                           20468 non-null int64\n",
      "usesinternetservice                     20468 non-null object\n",
      "usesvoiceservice                        20468 non-null object\n",
      "percentagecalloutsidenetwork            20468 non-null float64\n",
      "totalcallduration                       20468 non-null int64\n",
      "avgcallduration                         20468 non-null int64\n",
      "churn                                   20468 non-null int64\n",
      "year                                    20468 non-null int64\n",
      "month                                   20468 non-null int64\n",
      "dtypes: float64(3), int64(16), object(10)\n",
      "memory usage: 4.5+ MB\n"
     ]
    }
   ],
   "source": [
    "# Проверим, есть ли в нашем датасете пропуски\n",
    "df.info(null_counts=True)"
   ]
  },
  {
   "cell_type": "code",
   "execution_count": 55,
   "metadata": {},
   "outputs": [
    {
     "data": {
      "text/plain": [
       "0"
      ]
     },
     "execution_count": 55,
     "metadata": {},
     "output_type": "execute_result"
    }
   ],
   "source": [
    "# Или другой способ проверить, если пропуски в данных\n",
    "sum(df.isnull().sum())"
   ]
  },
  {
   "cell_type": "markdown",
   "metadata": {},
   "source": [
    "**Вывод:** Видим, что в данных пропусков нет. Датасет хорошо подготовлен."
   ]
  },
  {
   "cell_type": "code",
   "execution_count": 56,
   "metadata": {},
   "outputs": [
    {
     "data": {
      "image/png": "[encoded data removed]",
      "text/plain": [
       "<Figure size 576x360 with 1 Axes>"
      ]
     },
     "metadata": {},
     "output_type": "display_data"
    }
   ],
   "source": [
    "#Посмотрим на распределение целевого признака \n",
    "sns.countplot(df['churn']);"
   ]
  },
  {
   "cell_type": "code",
   "execution_count": 57,
   "metadata": {},
   "outputs": [
    {
     "data": {
      "text/plain": [
       "0    0.90898\n",
       "1    0.09102\n",
       "Name: churn, dtype: float64"
      ]
     },
     "execution_count": 57,
     "metadata": {},
     "output_type": "execute_result"
    }
   ],
   "source": [
    "df['churn'].value_counts(normalize=True)"
   ]
  },
  {
   "cell_type": "markdown",
   "metadata": {},
   "source": [
    "**Вывод:** Видим, что переменная целевого признака распределена неравномерно. Одного класса больше чем другого, таким образом <br> выборка несбалансированна. Соотношение между классами (90.8% / 9.1%). <br>\n",
    "\n",
    "Соотвественно:\n",
    "* 90,8% - клиентов остаются.<br>\n",
    "* 9,1% - попадают в отток."
   ]
  },
  {
   "cell_type": "code",
   "execution_count": 58,
   "metadata": {},
   "outputs": [
    {
     "data": {
      "text/html": [
       "<div>\n",
       "<style scoped>\n",
       "    .dataframe tbody tr th:only-of-type {\n",
       "        vertical-align: middle;\n",
       "    }\n",
       "\n",
       "    .dataframe tbody tr th {\n",
       "        vertical-align: top;\n",
       "    }\n",
       "\n",
       "    .dataframe thead th {\n",
       "        text-align: right;\n",
       "    }\n",
       "</style>\n",
       "<table border=\"1\" class=\"dataframe\">\n",
       "  <thead>\n",
       "    <tr style=\"text-align: right;\">\n",
       "      <th></th>\n",
       "      <th>count</th>\n",
       "      <th>mean</th>\n",
       "      <th>std</th>\n",
       "      <th>min</th>\n",
       "      <th>25%</th>\n",
       "      <th>50%</th>\n",
       "      <th>75%</th>\n",
       "      <th>max</th>\n",
       "    </tr>\n",
       "  </thead>\n",
       "  <tbody>\n",
       "    <tr>\n",
       "      <th>age</th>\n",
       "      <td>20468.0</td>\n",
       "      <td>4.533433e+01</td>\n",
       "      <td>1.962458e+01</td>\n",
       "      <td>12.0</td>\n",
       "      <td>2.800000e+01</td>\n",
       "      <td>4.500000e+01</td>\n",
       "      <td>6.200000e+01</td>\n",
       "      <td>7.900000e+01</td>\n",
       "    </tr>\n",
       "    <tr>\n",
       "      <th>annualincome</th>\n",
       "      <td>20468.0</td>\n",
       "      <td>1.244468e+05</td>\n",
       "      <td>7.212939e+04</td>\n",
       "      <td>4.0</td>\n",
       "      <td>6.189800e+04</td>\n",
       "      <td>1.236895e+05</td>\n",
       "      <td>1.870652e+05</td>\n",
       "      <td>2.499870e+05</td>\n",
       "    </tr>\n",
       "    <tr>\n",
       "      <th>calldroprate</th>\n",
       "      <td>20468.0</td>\n",
       "      <td>3.502150e-02</td>\n",
       "      <td>2.299601e-02</td>\n",
       "      <td>0.0</td>\n",
       "      <td>1.000000e-02</td>\n",
       "      <td>4.000000e-02</td>\n",
       "      <td>6.000000e-02</td>\n",
       "      <td>7.000000e-02</td>\n",
       "    </tr>\n",
       "    <tr>\n",
       "      <th>callfailurerate</th>\n",
       "      <td>20468.0</td>\n",
       "      <td>1.523891e-02</td>\n",
       "      <td>1.121297e-02</td>\n",
       "      <td>0.0</td>\n",
       "      <td>1.000000e-02</td>\n",
       "      <td>2.000000e-02</td>\n",
       "      <td>3.000000e-02</td>\n",
       "      <td>3.000000e-02</td>\n",
       "    </tr>\n",
       "    <tr>\n",
       "      <th>callingnum</th>\n",
       "      <td>20468.0</td>\n",
       "      <td>4.220203e+09</td>\n",
       "      <td>3.365196e+08</td>\n",
       "      <td>102295480.0</td>\n",
       "      <td>4.251031e+09</td>\n",
       "      <td>4.251054e+09</td>\n",
       "      <td>4.251077e+09</td>\n",
       "      <td>4.251100e+09</td>\n",
       "    </tr>\n",
       "    <tr>\n",
       "      <th>customerid</th>\n",
       "      <td>20468.0</td>\n",
       "      <td>4.757953e+03</td>\n",
       "      <td>2.751070e+03</td>\n",
       "      <td>1.0</td>\n",
       "      <td>2.372750e+03</td>\n",
       "      <td>4.754000e+03</td>\n",
       "      <td>7.141250e+03</td>\n",
       "      <td>9.525000e+03</td>\n",
       "    </tr>\n",
       "    <tr>\n",
       "      <th>monthlybilledamount</th>\n",
       "      <td>20468.0</td>\n",
       "      <td>5.963025e+01</td>\n",
       "      <td>3.465268e+01</td>\n",
       "      <td>0.0</td>\n",
       "      <td>2.900000e+01</td>\n",
       "      <td>6.000000e+01</td>\n",
       "      <td>9.000000e+01</td>\n",
       "      <td>1.190000e+02</td>\n",
       "    </tr>\n",
       "    <tr>\n",
       "      <th>numberofcomplaints</th>\n",
       "      <td>20468.0</td>\n",
       "      <td>1.499169e+00</td>\n",
       "      <td>1.119153e+00</td>\n",
       "      <td>0.0</td>\n",
       "      <td>0.000000e+00</td>\n",
       "      <td>2.000000e+00</td>\n",
       "      <td>3.000000e+00</td>\n",
       "      <td>3.000000e+00</td>\n",
       "    </tr>\n",
       "    <tr>\n",
       "      <th>numberofmonthunpaid</th>\n",
       "      <td>20468.0</td>\n",
       "      <td>3.489252e+00</td>\n",
       "      <td>2.289740e+00</td>\n",
       "      <td>0.0</td>\n",
       "      <td>1.000000e+00</td>\n",
       "      <td>3.000000e+00</td>\n",
       "      <td>5.000000e+00</td>\n",
       "      <td>7.000000e+00</td>\n",
       "    </tr>\n",
       "    <tr>\n",
       "      <th>numdayscontractequipmentplanexpiring</th>\n",
       "      <td>20468.0</td>\n",
       "      <td>4.936682e+01</td>\n",
       "      <td>2.887414e+01</td>\n",
       "      <td>0.0</td>\n",
       "      <td>2.400000e+01</td>\n",
       "      <td>4.900000e+01</td>\n",
       "      <td>7.400000e+01</td>\n",
       "      <td>9.900000e+01</td>\n",
       "    </tr>\n",
       "    <tr>\n",
       "      <th>penaltytoswitch</th>\n",
       "      <td>20468.0</td>\n",
       "      <td>2.487926e+02</td>\n",
       "      <td>1.442472e+02</td>\n",
       "      <td>0.0</td>\n",
       "      <td>1.240000e+02</td>\n",
       "      <td>2.490000e+02</td>\n",
       "      <td>3.730000e+02</td>\n",
       "      <td>4.990000e+02</td>\n",
       "    </tr>\n",
       "    <tr>\n",
       "      <th>totalminsusedinlastmonth</th>\n",
       "      <td>20468.0</td>\n",
       "      <td>2.497405e+02</td>\n",
       "      <td>1.441981e+02</td>\n",
       "      <td>0.0</td>\n",
       "      <td>1.260000e+02</td>\n",
       "      <td>2.490000e+02</td>\n",
       "      <td>3.740000e+02</td>\n",
       "      <td>4.990000e+02</td>\n",
       "    </tr>\n",
       "    <tr>\n",
       "      <th>unpaidbalance</th>\n",
       "      <td>20468.0</td>\n",
       "      <td>1.266569e+02</td>\n",
       "      <td>7.036780e+01</td>\n",
       "      <td>0.0</td>\n",
       "      <td>6.600000e+01</td>\n",
       "      <td>1.220000e+02</td>\n",
       "      <td>1.910000e+02</td>\n",
       "      <td>2.490000e+02</td>\n",
       "    </tr>\n",
       "    <tr>\n",
       "      <th>percentagecalloutsidenetwork</th>\n",
       "      <td>20468.0</td>\n",
       "      <td>4.965282e-01</td>\n",
       "      <td>2.882198e-01</td>\n",
       "      <td>0.0</td>\n",
       "      <td>2.500000e-01</td>\n",
       "      <td>5.000000e-01</td>\n",
       "      <td>7.500000e-01</td>\n",
       "      <td>9.900000e-01</td>\n",
       "    </tr>\n",
       "    <tr>\n",
       "      <th>totalcallduration</th>\n",
       "      <td>20468.0</td>\n",
       "      <td>3.521696e+03</td>\n",
       "      <td>1.959642e+03</td>\n",
       "      <td>0.0</td>\n",
       "      <td>2.047750e+03</td>\n",
       "      <td>3.365000e+03</td>\n",
       "      <td>4.786250e+03</td>\n",
       "      <td>1.666200e+04</td>\n",
       "    </tr>\n",
       "    <tr>\n",
       "      <th>avgcallduration</th>\n",
       "      <td>20468.0</td>\n",
       "      <td>7.215211e+02</td>\n",
       "      <td>2.256776e+02</td>\n",
       "      <td>0.0</td>\n",
       "      <td>5.820000e+02</td>\n",
       "      <td>7.210000e+02</td>\n",
       "      <td>8.620000e+02</td>\n",
       "      <td>1.439000e+03</td>\n",
       "    </tr>\n",
       "    <tr>\n",
       "      <th>churn</th>\n",
       "      <td>20468.0</td>\n",
       "      <td>9.102013e-02</td>\n",
       "      <td>2.876448e-01</td>\n",
       "      <td>0.0</td>\n",
       "      <td>0.000000e+00</td>\n",
       "      <td>0.000000e+00</td>\n",
       "      <td>0.000000e+00</td>\n",
       "      <td>1.000000e+00</td>\n",
       "    </tr>\n",
       "    <tr>\n",
       "      <th>year</th>\n",
       "      <td>20468.0</td>\n",
       "      <td>2.015000e+03</td>\n",
       "      <td>0.000000e+00</td>\n",
       "      <td>2015.0</td>\n",
       "      <td>2.015000e+03</td>\n",
       "      <td>2.015000e+03</td>\n",
       "      <td>2.015000e+03</td>\n",
       "      <td>2.015000e+03</td>\n",
       "    </tr>\n",
       "    <tr>\n",
       "      <th>month</th>\n",
       "      <td>20468.0</td>\n",
       "      <td>1.611687e+00</td>\n",
       "      <td>6.218951e-01</td>\n",
       "      <td>1.0</td>\n",
       "      <td>1.000000e+00</td>\n",
       "      <td>2.000000e+00</td>\n",
       "      <td>2.000000e+00</td>\n",
       "      <td>3.000000e+00</td>\n",
       "    </tr>\n",
       "  </tbody>\n",
       "</table>\n",
       "</div>"
      ],
      "text/plain": [
       "                                        count          mean           std  \\\n",
       "age                                   20468.0  4.533433e+01  1.962458e+01   \n",
       "annualincome                          20468.0  1.244468e+05  7.212939e+04   \n",
       "calldroprate                          20468.0  3.502150e-02  2.299601e-02   \n",
       "callfailurerate                       20468.0  1.523891e-02  1.121297e-02   \n",
       "callingnum                            20468.0  4.220203e+09  3.365196e+08   \n",
       "customerid                            20468.0  4.757953e+03  2.751070e+03   \n",
       "monthlybilledamount                   20468.0  5.963025e+01  3.465268e+01   \n",
       "numberofcomplaints                    20468.0  1.499169e+00  1.119153e+00   \n",
       "numberofmonthunpaid                   20468.0  3.489252e+00  2.289740e+00   \n",
       "numdayscontractequipmentplanexpiring  20468.0  4.936682e+01  2.887414e+01   \n",
       "penaltytoswitch                       20468.0  2.487926e+02  1.442472e+02   \n",
       "totalminsusedinlastmonth              20468.0  2.497405e+02  1.441981e+02   \n",
       "unpaidbalance                         20468.0  1.266569e+02  7.036780e+01   \n",
       "percentagecalloutsidenetwork          20468.0  4.965282e-01  2.882198e-01   \n",
       "totalcallduration                     20468.0  3.521696e+03  1.959642e+03   \n",
       "avgcallduration                       20468.0  7.215211e+02  2.256776e+02   \n",
       "churn                                 20468.0  9.102013e-02  2.876448e-01   \n",
       "year                                  20468.0  2.015000e+03  0.000000e+00   \n",
       "month                                 20468.0  1.611687e+00  6.218951e-01   \n",
       "\n",
       "                                              min           25%           50%  \\\n",
       "age                                          12.0  2.800000e+01  4.500000e+01   \n",
       "annualincome                                  4.0  6.189800e+04  1.236895e+05   \n",
       "calldroprate                                  0.0  1.000000e-02  4.000000e-02   \n",
       "callfailurerate                               0.0  1.000000e-02  2.000000e-02   \n",
       "callingnum                            102295480.0  4.251031e+09  4.251054e+09   \n",
       "customerid                                    1.0  2.372750e+03  4.754000e+03   \n",
       "monthlybilledamount                           0.0  2.900000e+01  6.000000e+01   \n",
       "numberofcomplaints                            0.0  0.000000e+00  2.000000e+00   \n",
       "numberofmonthunpaid                           0.0  1.000000e+00  3.000000e+00   \n",
       "numdayscontractequipmentplanexpiring          0.0  2.400000e+01  4.900000e+01   \n",
       "penaltytoswitch                               0.0  1.240000e+02  2.490000e+02   \n",
       "totalminsusedinlastmonth                      0.0  1.260000e+02  2.490000e+02   \n",
       "unpaidbalance                                 0.0  6.600000e+01  1.220000e+02   \n",
       "percentagecalloutsidenetwork                  0.0  2.500000e-01  5.000000e-01   \n",
       "totalcallduration                             0.0  2.047750e+03  3.365000e+03   \n",
       "avgcallduration                               0.0  5.820000e+02  7.210000e+02   \n",
       "churn                                         0.0  0.000000e+00  0.000000e+00   \n",
       "year                                       2015.0  2.015000e+03  2.015000e+03   \n",
       "month                                         1.0  1.000000e+00  2.000000e+00   \n",
       "\n",
       "                                               75%           max  \n",
       "age                                   6.200000e+01  7.900000e+01  \n",
       "annualincome                          1.870652e+05  2.499870e+05  \n",
       "calldroprate                          6.000000e-02  7.000000e-02  \n",
       "callfailurerate                       3.000000e-02  3.000000e-02  \n",
       "callingnum                            4.251077e+09  4.251100e+09  \n",
       "customerid                            7.141250e+03  9.525000e+03  \n",
       "monthlybilledamount                   9.000000e+01  1.190000e+02  \n",
       "numberofcomplaints                    3.000000e+00  3.000000e+00  \n",
       "numberofmonthunpaid                   5.000000e+00  7.000000e+00  \n",
       "numdayscontractequipmentplanexpiring  7.400000e+01  9.900000e+01  \n",
       "penaltytoswitch                       3.730000e+02  4.990000e+02  \n",
       "totalminsusedinlastmonth              3.740000e+02  4.990000e+02  \n",
       "unpaidbalance                         1.910000e+02  2.490000e+02  \n",
       "percentagecalloutsidenetwork          7.500000e-01  9.900000e-01  \n",
       "totalcallduration                     4.786250e+03  1.666200e+04  \n",
       "avgcallduration                       8.620000e+02  1.439000e+03  \n",
       "churn                                 0.000000e+00  1.000000e+00  \n",
       "year                                  2.015000e+03  2.015000e+03  \n",
       "month                                 2.000000e+00  3.000000e+00  "
      ]
     },
     "execution_count": 58,
     "metadata": {},
     "output_type": "execute_result"
    }
   ],
   "source": [
    "# Посмотрим на статистические характеристики:\n",
    "df.describe().T"
   ]
  },
  {
   "cell_type": "markdown",
   "metadata": {},
   "source": [
    "**Вывод**: \n",
    "* Из таблице, как это уже и описывалось выше, видно что  \"year\" является константой, его можно удалить из исследуемого датасета. <br> \n",
    " Также из датасета можно удалить категориальный признак \"noadditionallines\", тк он принимает тоже единственное значение. <br> \n",
    " Удалить признаки можно, потому что они не вносит никакой вклад в исследование, а также в дальнейшее обучение модели. \n",
    "* Статистики несильно скошены, тк среднее несильно больше медианы. Также максимальные значения несильно больше средних, таким образом выбросов у нас нет\n"
   ]
  },
  {
   "cell_type": "code",
   "execution_count": 59,
   "metadata": {
    "collapsed": true
   },
   "outputs": [],
   "source": [
    "# Удаляем 'year' и 'noadditionallines'\n",
    "df.drop(['year','noadditionallines'], axis=1,inplace=True)"
   ]
  },
  {
   "cell_type": "markdown",
   "metadata": {},
   "source": [
    "Посмотрим сколько у нас \"отточных\" клиентов ежемесячно."
   ]
  },
  {
   "cell_type": "code",
   "execution_count": 60,
   "metadata": {
    "collapsed": true
   },
   "outputs": [],
   "source": [
    "churn=pd.crosstab(index=df['month'],columns=df['churn'])\n",
    "churn['%']=round(churn[1]/churn[0]*100,2)"
   ]
  },
  {
   "cell_type": "code",
   "execution_count": 61,
   "metadata": {},
   "outputs": [
    {
     "data": {
      "text/html": [
       "<div>\n",
       "<style scoped>\n",
       "    .dataframe tbody tr th:only-of-type {\n",
       "        vertical-align: middle;\n",
       "    }\n",
       "\n",
       "    .dataframe tbody tr th {\n",
       "        vertical-align: top;\n",
       "    }\n",
       "\n",
       "    .dataframe thead th {\n",
       "        text-align: right;\n",
       "    }\n",
       "</style>\n",
       "<table border=\"1\" class=\"dataframe\">\n",
       "  <thead>\n",
       "    <tr style=\"text-align: right;\">\n",
       "      <th>month</th>\n",
       "      <th>1</th>\n",
       "      <th>2</th>\n",
       "      <th>3</th>\n",
       "    </tr>\n",
       "    <tr>\n",
       "      <th>churn</th>\n",
       "      <th></th>\n",
       "      <th></th>\n",
       "      <th></th>\n",
       "    </tr>\n",
       "  </thead>\n",
       "  <tbody>\n",
       "    <tr>\n",
       "      <th>0</th>\n",
       "      <td>8619.00</td>\n",
       "      <td>8609.00</td>\n",
       "      <td>1377.00</td>\n",
       "    </tr>\n",
       "    <tr>\n",
       "      <th>1</th>\n",
       "      <td>856.00</td>\n",
       "      <td>857.00</td>\n",
       "      <td>150.00</td>\n",
       "    </tr>\n",
       "    <tr>\n",
       "      <th>%</th>\n",
       "      <td>9.93</td>\n",
       "      <td>9.95</td>\n",
       "      <td>10.89</td>\n",
       "    </tr>\n",
       "  </tbody>\n",
       "</table>\n",
       "</div>"
      ],
      "text/plain": [
       "month        1        2        3\n",
       "churn                           \n",
       "0      8619.00  8609.00  1377.00\n",
       "1       856.00   857.00   150.00\n",
       "%         9.93     9.95    10.89"
      ]
     },
     "execution_count": 61,
     "metadata": {},
     "output_type": "execute_result"
    }
   ],
   "source": [
    "churn.T"
   ]
  },
  {
   "cell_type": "markdown",
   "metadata": {},
   "source": [
    "**Вывод:** Видна некоторая сезонность, к 3 месяцу отток клиентов возрастает."
   ]
  },
  {
   "cell_type": "markdown",
   "metadata": {},
   "source": [
    "Посмотрим на нашу целевую переменную в зависимости от других числовых показателей"
   ]
  },
  {
   "cell_type": "code",
   "execution_count": 62,
   "metadata": {},
   "outputs": [
    {
     "data": {
      "text/html": [
       "<div>\n",
       "<style scoped>\n",
       "    .dataframe tbody tr th:only-of-type {\n",
       "        vertical-align: middle;\n",
       "    }\n",
       "\n",
       "    .dataframe tbody tr th {\n",
       "        vertical-align: top;\n",
       "    }\n",
       "\n",
       "    .dataframe thead th {\n",
       "        text-align: right;\n",
       "    }\n",
       "</style>\n",
       "<table border=\"1\" class=\"dataframe\">\n",
       "  <thead>\n",
       "    <tr style=\"text-align: right;\">\n",
       "      <th>churn</th>\n",
       "      <th>0</th>\n",
       "      <th>1</th>\n",
       "      <th>%_churn</th>\n",
       "    </tr>\n",
       "  </thead>\n",
       "  <tbody>\n",
       "    <tr>\n",
       "      <th>numberofcomplaints</th>\n",
       "      <td>2.753200e+04</td>\n",
       "      <td>3.153000e+03</td>\n",
       "      <td>11.452128</td>\n",
       "    </tr>\n",
       "    <tr>\n",
       "      <th>unpaidbalance</th>\n",
       "      <td>2.336781e+06</td>\n",
       "      <td>2.556320e+05</td>\n",
       "      <td>10.939493</td>\n",
       "    </tr>\n",
       "    <tr>\n",
       "      <th>monthlybilledamount</th>\n",
       "      <td>1.107413e+06</td>\n",
       "      <td>1.130990e+05</td>\n",
       "      <td>10.212902</td>\n",
       "    </tr>\n",
       "    <tr>\n",
       "      <th>calldroprate</th>\n",
       "      <td>6.506400e+02</td>\n",
       "      <td>6.618000e+01</td>\n",
       "      <td>10.171523</td>\n",
       "    </tr>\n",
       "    <tr>\n",
       "      <th>numberofmonthunpaid</th>\n",
       "      <td>6.484700e+04</td>\n",
       "      <td>6.571000e+03</td>\n",
       "      <td>10.133082</td>\n",
       "    </tr>\n",
       "    <tr>\n",
       "      <th>callfailurerate</th>\n",
       "      <td>2.832900e+02</td>\n",
       "      <td>2.862000e+01</td>\n",
       "      <td>10.102722</td>\n",
       "    </tr>\n",
       "    <tr>\n",
       "      <th>totalminsusedinlastmonth</th>\n",
       "      <td>4.643204e+06</td>\n",
       "      <td>4.684850e+05</td>\n",
       "      <td>10.089692</td>\n",
       "    </tr>\n",
       "    <tr>\n",
       "      <th>month</th>\n",
       "      <td>2.996800e+04</td>\n",
       "      <td>3.020000e+03</td>\n",
       "      <td>10.077416</td>\n",
       "    </tr>\n",
       "    <tr>\n",
       "      <th>customerid</th>\n",
       "      <td>8.848222e+07</td>\n",
       "      <td>8.903565e+06</td>\n",
       "      <td>10.062547</td>\n",
       "    </tr>\n",
       "    <tr>\n",
       "      <th>avgcallduration</th>\n",
       "      <td>1.342640e+07</td>\n",
       "      <td>1.341695e+06</td>\n",
       "      <td>9.992963</td>\n",
       "    </tr>\n",
       "    <tr>\n",
       "      <th>callingnum</th>\n",
       "      <td>7.853552e+13</td>\n",
       "      <td>7.843595e+12</td>\n",
       "      <td>9.987321</td>\n",
       "    </tr>\n",
       "    <tr>\n",
       "      <th>annualincome</th>\n",
       "      <td>2.316097e+09</td>\n",
       "      <td>2.310800e+08</td>\n",
       "      <td>9.977129</td>\n",
       "    </tr>\n",
       "    <tr>\n",
       "      <th>penaltytoswitch</th>\n",
       "      <td>4.630527e+06</td>\n",
       "      <td>4.617600e+05</td>\n",
       "      <td>9.972083</td>\n",
       "    </tr>\n",
       "    <tr>\n",
       "      <th>totalcallduration</th>\n",
       "      <td>6.563753e+07</td>\n",
       "      <td>6.444549e+06</td>\n",
       "      <td>9.818390</td>\n",
       "    </tr>\n",
       "    <tr>\n",
       "      <th>percentagecalloutsidenetwork</th>\n",
       "      <td>9.259790e+03</td>\n",
       "      <td>9.031500e+02</td>\n",
       "      <td>9.753461</td>\n",
       "    </tr>\n",
       "    <tr>\n",
       "      <th>numdayscontractequipmentplanexpiring</th>\n",
       "      <td>9.215110e+05</td>\n",
       "      <td>8.892900e+04</td>\n",
       "      <td>9.650346</td>\n",
       "    </tr>\n",
       "    <tr>\n",
       "      <th>age</th>\n",
       "      <td>8.593490e+05</td>\n",
       "      <td>6.855400e+04</td>\n",
       "      <td>7.977434</td>\n",
       "    </tr>\n",
       "  </tbody>\n",
       "</table>\n",
       "</div>"
      ],
      "text/plain": [
       "churn                                            0             1    %_churn\n",
       "numberofcomplaints                    2.753200e+04  3.153000e+03  11.452128\n",
       "unpaidbalance                         2.336781e+06  2.556320e+05  10.939493\n",
       "monthlybilledamount                   1.107413e+06  1.130990e+05  10.212902\n",
       "calldroprate                          6.506400e+02  6.618000e+01  10.171523\n",
       "numberofmonthunpaid                   6.484700e+04  6.571000e+03  10.133082\n",
       "callfailurerate                       2.832900e+02  2.862000e+01  10.102722\n",
       "totalminsusedinlastmonth              4.643204e+06  4.684850e+05  10.089692\n",
       "month                                 2.996800e+04  3.020000e+03  10.077416\n",
       "customerid                            8.848222e+07  8.903565e+06  10.062547\n",
       "avgcallduration                       1.342640e+07  1.341695e+06   9.992963\n",
       "callingnum                            7.853552e+13  7.843595e+12   9.987321\n",
       "annualincome                          2.316097e+09  2.310800e+08   9.977129\n",
       "penaltytoswitch                       4.630527e+06  4.617600e+05   9.972083\n",
       "totalcallduration                     6.563753e+07  6.444549e+06   9.818390\n",
       "percentagecalloutsidenetwork          9.259790e+03  9.031500e+02   9.753461\n",
       "numdayscontractequipmentplanexpiring  9.215110e+05  8.892900e+04   9.650346\n",
       "age                                   8.593490e+05  6.855400e+04   7.977434"
      ]
     },
     "execution_count": 62,
     "metadata": {},
     "output_type": "execute_result"
    }
   ],
   "source": [
    "оther=pd.pivot_table(data=df,values=df.iloc[:],columns=df['churn'],aggfunc=np.sum)\n",
    "оther['%_churn']=оther[1]/оther[0]*100\n",
    "оther.sort_values(by='%_churn',ascending=False).head(20)"
   ]
  },
  {
   "cell_type": "markdown",
   "metadata": {},
   "source": [
    "**Вывод:** Видим зависит между churn и numberofcomplaints(количеством жалоб в сервисный центр) и unpaidbalance(неоплаченным балансом). Далее убедимся в этом на графике."
   ]
  },
  {
   "cell_type": "markdown",
   "metadata": {},
   "source": [
    "Посмотрим на нечисловые признаки."
   ]
  },
  {
   "cell_type": "code",
   "execution_count": 63,
   "metadata": {},
   "outputs": [
    {
     "data": {
      "text/html": [
       "<div>\n",
       "<style scoped>\n",
       "    .dataframe tbody tr th:only-of-type {\n",
       "        vertical-align: middle;\n",
       "    }\n",
       "\n",
       "    .dataframe tbody tr th {\n",
       "        vertical-align: top;\n",
       "    }\n",
       "\n",
       "    .dataframe thead th {\n",
       "        text-align: right;\n",
       "    }\n",
       "</style>\n",
       "<table border=\"1\" class=\"dataframe\">\n",
       "  <thead>\n",
       "    <tr style=\"text-align: right;\">\n",
       "      <th>state</th>\n",
       "      <th>SC</th>\n",
       "      <th>CA</th>\n",
       "      <th>IA</th>\n",
       "      <th>KY</th>\n",
       "      <th>OK</th>\n",
       "      <th>AR</th>\n",
       "      <th>NY</th>\n",
       "      <th>ND</th>\n",
       "      <th>UT</th>\n",
       "      <th>WV</th>\n",
       "      <th>...</th>\n",
       "      <th>IN</th>\n",
       "      <th>IL</th>\n",
       "      <th>VA</th>\n",
       "      <th>MN</th>\n",
       "      <th>MD</th>\n",
       "      <th>NJ</th>\n",
       "      <th>LA</th>\n",
       "      <th>AL</th>\n",
       "      <th>NE</th>\n",
       "      <th>VT</th>\n",
       "    </tr>\n",
       "  </thead>\n",
       "  <tbody>\n",
       "    <tr>\n",
       "      <th>mean</th>\n",
       "      <td>0.158416</td>\n",
       "      <td>0.140312</td>\n",
       "      <td>0.126794</td>\n",
       "      <td>0.113333</td>\n",
       "      <td>0.112903</td>\n",
       "      <td>0.109792</td>\n",
       "      <td>0.108974</td>\n",
       "      <td>0.107728</td>\n",
       "      <td>0.105882</td>\n",
       "      <td>0.105413</td>\n",
       "      <td>...</td>\n",
       "      <td>0.07565</td>\n",
       "      <td>0.074271</td>\n",
       "      <td>0.07371</td>\n",
       "      <td>0.068736</td>\n",
       "      <td>0.06823</td>\n",
       "      <td>0.05305</td>\n",
       "      <td>0.0525</td>\n",
       "      <td>0.050898</td>\n",
       "      <td>0.048518</td>\n",
       "      <td>0.034853</td>\n",
       "    </tr>\n",
       "  </tbody>\n",
       "</table>\n",
       "<p>1 rows × 50 columns</p>\n",
       "</div>"
      ],
      "text/plain": [
       "state        SC        CA        IA        KY        OK        AR        NY  \\\n",
       "mean   0.158416  0.140312  0.126794  0.113333  0.112903  0.109792  0.108974   \n",
       "\n",
       "state        ND        UT        WV    ...          IN        IL       VA  \\\n",
       "mean   0.107728  0.105882  0.105413    ...     0.07565  0.074271  0.07371   \n",
       "\n",
       "state        MN       MD       NJ      LA        AL        NE        VT  \n",
       "mean   0.068736  0.06823  0.05305  0.0525  0.050898  0.048518  0.034853  \n",
       "\n",
       "[1 rows x 50 columns]"
      ]
     },
     "execution_count": 63,
     "metadata": {},
     "output_type": "execute_result"
    }
   ],
   "source": [
    "# Посмотрим на нашу переменную в зависимости от штата проживания\n",
    "df.groupby(['state'])['churn'].agg([np.mean]).sort_values(by='mean', ascending=False).T"
   ]
  },
  {
   "cell_type": "markdown",
   "metadata": {},
   "source": [
    "**Вывод:** В некоторых штатх процент оттока больше, чем в других, \n",
    "причем разница между минимальным и максимальным значениями большая.\n",
    "Видимо это связано с уровнем жизни, а также в крупных штатах больше компаний, следовательно больше выбор."
   ]
  },
  {
   "cell_type": "code",
   "execution_count": 64,
   "metadata": {},
   "outputs": [
    {
     "data": {
      "text/html": [
       "<div>\n",
       "<style scoped>\n",
       "    .dataframe tbody tr th:only-of-type {\n",
       "        vertical-align: middle;\n",
       "    }\n",
       "\n",
       "    .dataframe tbody tr th {\n",
       "        vertical-align: top;\n",
       "    }\n",
       "\n",
       "    .dataframe thead th {\n",
       "        text-align: right;\n",
       "    }\n",
       "</style>\n",
       "<table border=\"1\" class=\"dataframe\">\n",
       "  <thead>\n",
       "    <tr style=\"text-align: right;\">\n",
       "      <th>gender</th>\n",
       "      <th>Female</th>\n",
       "      <th>Male</th>\n",
       "    </tr>\n",
       "  </thead>\n",
       "  <tbody>\n",
       "    <tr>\n",
       "      <th>mean</th>\n",
       "      <td>0.09261</td>\n",
       "      <td>0.089354</td>\n",
       "    </tr>\n",
       "  </tbody>\n",
       "</table>\n",
       "</div>"
      ],
      "text/plain": [
       "gender   Female      Male\n",
       "mean    0.09261  0.089354"
      ]
     },
     "execution_count": 64,
     "metadata": {},
     "output_type": "execute_result"
    }
   ],
   "source": [
    "df.groupby(['gender'])['churn'].agg([np.mean]).sort_values(by='mean', ascending=False).T"
   ]
  },
  {
   "cell_type": "code",
   "execution_count": 65,
   "metadata": {},
   "outputs": [
    {
     "data": {
      "text/html": [
       "<div>\n",
       "<style scoped>\n",
       "    .dataframe tbody tr th:only-of-type {\n",
       "        vertical-align: middle;\n",
       "    }\n",
       "\n",
       "    .dataframe tbody tr th {\n",
       "        vertical-align: top;\n",
       "    }\n",
       "\n",
       "    .dataframe thead th {\n",
       "        text-align: right;\n",
       "    }\n",
       "</style>\n",
       "<table border=\"1\" class=\"dataframe\">\n",
       "  <thead>\n",
       "    <tr style=\"text-align: right;\">\n",
       "      <th>homeowner</th>\n",
       "      <th>No</th>\n",
       "      <th>Yes</th>\n",
       "    </tr>\n",
       "  </thead>\n",
       "  <tbody>\n",
       "    <tr>\n",
       "      <th>mean</th>\n",
       "      <td>0.094912</td>\n",
       "      <td>0.090049</td>\n",
       "    </tr>\n",
       "  </tbody>\n",
       "</table>\n",
       "</div>"
      ],
      "text/plain": [
       "homeowner        No       Yes\n",
       "mean       0.094912  0.090049"
      ]
     },
     "execution_count": 65,
     "metadata": {},
     "output_type": "execute_result"
    }
   ],
   "source": [
    "df.groupby(['homeowner'])['churn'].agg([np.mean]).sort_values(by='mean', ascending=False).T"
   ]
  },
  {
   "cell_type": "markdown",
   "metadata": {},
   "source": [
    "**Вывод:** Видим, что женщины в среднем меняют тариф чаще мужчин, а также те, кто не владеет домом. Последнее можно объяснить переездом."
   ]
  },
  {
   "cell_type": "code",
   "execution_count": 66,
   "metadata": {},
   "outputs": [
    {
     "data": {
      "text/html": [
       "<div>\n",
       "<style scoped>\n",
       "    .dataframe tbody tr th:only-of-type {\n",
       "        vertical-align: middle;\n",
       "    }\n",
       "\n",
       "    .dataframe tbody tr th {\n",
       "        vertical-align: top;\n",
       "    }\n",
       "\n",
       "    .dataframe thead th {\n",
       "        text-align: right;\n",
       "    }\n",
       "</style>\n",
       "<table border=\"1\" class=\"dataframe\">\n",
       "  <thead>\n",
       "    <tr style=\"text-align: right;\">\n",
       "      <th>occupation</th>\n",
       "      <th>Non-technology Related Job</th>\n",
       "      <th>Others</th>\n",
       "      <th>Technology Related Job</th>\n",
       "    </tr>\n",
       "  </thead>\n",
       "  <tbody>\n",
       "    <tr>\n",
       "      <th>mean</th>\n",
       "      <td>0.098724</td>\n",
       "      <td>0.088778</td>\n",
       "      <td>0.086207</td>\n",
       "    </tr>\n",
       "  </tbody>\n",
       "</table>\n",
       "</div>"
      ],
      "text/plain": [
       "occupation  Non-technology Related Job    Others  Technology Related Job\n",
       "mean                          0.098724  0.088778                0.086207"
      ]
     },
     "execution_count": 66,
     "metadata": {},
     "output_type": "execute_result"
    }
   ],
   "source": [
    "df.groupby(['occupation'])['churn'].agg([np.mean]).sort_values(by='mean', ascending=False).T"
   ]
  },
  {
   "cell_type": "code",
   "execution_count": 67,
   "metadata": {},
   "outputs": [
    {
     "data": {
      "text/html": [
       "<div>\n",
       "<style scoped>\n",
       "    .dataframe tbody tr th:only-of-type {\n",
       "        vertical-align: middle;\n",
       "    }\n",
       "\n",
       "    .dataframe tbody tr th {\n",
       "        vertical-align: top;\n",
       "    }\n",
       "\n",
       "    .dataframe thead th {\n",
       "        text-align: right;\n",
       "    }\n",
       "</style>\n",
       "<table border=\"1\" class=\"dataframe\">\n",
       "  <thead>\n",
       "    <tr style=\"text-align: right;\">\n",
       "      <th>education</th>\n",
       "      <th>PhD or equivalent</th>\n",
       "      <th>Bachelor or equivalent</th>\n",
       "      <th>High School or below</th>\n",
       "      <th>Master or equivalent</th>\n",
       "    </tr>\n",
       "  </thead>\n",
       "  <tbody>\n",
       "    <tr>\n",
       "      <th>mean</th>\n",
       "      <td>0.102564</td>\n",
       "      <td>0.097589</td>\n",
       "      <td>0.091416</td>\n",
       "      <td>0.072927</td>\n",
       "    </tr>\n",
       "  </tbody>\n",
       "</table>\n",
       "</div>"
      ],
      "text/plain": [
       "education  PhD or equivalent  Bachelor or equivalent  High School or below  \\\n",
       "mean                0.102564                0.097589              0.091416   \n",
       "\n",
       "education  Master or equivalent  \n",
       "mean                   0.072927  "
      ]
     },
     "execution_count": 67,
     "metadata": {},
     "output_type": "execute_result"
    }
   ],
   "source": [
    "df.groupby(['education'])['churn'].agg([np.mean]).sort_values(by='mean', ascending=False).T"
   ]
  },
  {
   "cell_type": "markdown",
   "metadata": {},
   "source": [
    "**Вывод:** Видим, что технологические люди уходят реже, видимо это связано с чуть бОльшей зарплатой в среднем. \n",
    "    Также видно, кто обладает степенью PhD уходит чаще, возможно это связано с перездом на место исследований.\n",
    "    Также часто уходят школьники и бакалавры, видимо это связано с бОльшей мобильностью."
   ]
  },
  {
   "cell_type": "markdown",
   "metadata": {},
   "source": [
    "# 3. Первичный визуальный анализ признаков"
   ]
  },
  {
   "cell_type": "code",
   "execution_count": 68,
   "metadata": {
    "scrolled": true
   },
   "outputs": [
    {
     "data": {
      "image/png": "[encoded data removed]",
      "text/plain": [
       "<Figure size 576x360 with 2 Axes>"
      ]
     },
     "metadata": {},
     "output_type": "display_data"
    }
   ],
   "source": [
    "#Построим матрицу корреляции\n",
    "plt.figure(figsize=(8,5))\n",
    "corr_matrix=df.corr()\n",
    "sns.heatmap(corr_matrix, cmap='YlGnBu');"
   ]
  },
  {
   "cell_type": "markdown",
   "metadata": {},
   "source": [
    "**Вывод**:<br>\n",
    "Видна зависимость между\n",
    "* churn, numberofcomplaints и unpaidbalance, как это было видно из числового анализа выше.\n",
    "* customerid и callingnum. Это логично, клиент и номер телефона тесно связаны.\n",
    "* totalcallduration и avgcallduration. \n",
    "\n",
    "Для последней пары один из признаков, возможно, является избыточным, при обучении модели попробуем в дальнейшем удалить его для повышения качества модели.\n",
    "\n"
   ]
  },
  {
   "cell_type": "markdown",
   "metadata": {},
   "source": [
    "Рассмотрим более детально признаки от которых зависит churn"
   ]
  },
  {
   "cell_type": "code",
   "execution_count": 69,
   "metadata": {},
   "outputs": [
    {
     "data": {
      "image/png": "[encoded data removed]",
      "text/plain": [
       "<Figure size 576x360 with 1 Axes>"
      ]
     },
     "metadata": {},
     "output_type": "display_data"
    }
   ],
   "source": [
    "sns.countplot(x='numberofcomplaints', hue=\"churn\", data=df);"
   ]
  },
  {
   "cell_type": "markdown",
   "metadata": {},
   "source": [
    "**Вывод:** После третьего обращения в службу жалоб churn возрастает"
   ]
  },
  {
   "cell_type": "code",
   "execution_count": 70,
   "metadata": {
    "collapsed": true
   },
   "outputs": [],
   "source": [
    "def plot_distribution(df, var, target, **kwargs):\n",
    "    row = kwargs.get('row', None)\n",
    "    col = kwargs.get('col', None)\n",
    "    facet = sns.FacetGrid(df, hue=target, aspect=3, row=row, col=col)\n",
    "    facet.map(sns.kdeplot, var, shade=True)\n",
    "    facet.add_legend()\n",
    "    pyplot.show()"
   ]
  },
  {
   "cell_type": "code",
   "execution_count": 71,
   "metadata": {},
   "outputs": [
    {
     "data": {
      "image/png": "[encoded data removed]",
      "text/plain": [
       "<Figure size 690.375x216 with 1 Axes>"
      ]
     },
     "metadata": {},
     "output_type": "display_data"
    }
   ],
   "source": [
    "plot_distribution(df, 'unpaidbalance', 'churn')"
   ]
  },
  {
   "cell_type": "markdown",
   "metadata": {},
   "source": [
    "**Вывод**: Видим, что при задолжности более 210 на балансе, пользователь скорее всего уйдет.<br>\n",
    "\n"
   ]
  },
  {
   "cell_type": "markdown",
   "metadata": {},
   "source": [
    "Построим графики распределения признаков, вдруг найдем какие-нибудь инсайты."
   ]
  },
  {
   "cell_type": "code",
   "execution_count": 72,
   "metadata": {},
   "outputs": [
    {
     "data": {
      "image/png": "[encoded data removed]",
      "text/plain": [
       "<Figure size 720x936 with 20 Axes>"
      ]
     },
     "metadata": {},
     "output_type": "display_data"
    }
   ],
   "source": [
    "# Строим графики распределения признаков\n",
    "plots = df.hist(figsize=(10,13))"
   ]
  },
  {
   "cell_type": "markdown",
   "metadata": {},
   "source": [
    "**Вывод:** Аномалий или особенностей в графиках не замечено."
   ]
  },
  {
   "cell_type": "markdown",
   "metadata": {},
   "source": [
    "Посмотрим на бинарные и категориальные признаки."
   ]
  },
  {
   "cell_type": "code",
   "execution_count": 73,
   "metadata": {},
   "outputs": [
    {
     "data": {
      "image/png": "[encoded data removed]",
      "text/plain": [
       "<Figure size 864x360 with 2 Axes>"
      ]
     },
     "metadata": {},
     "output_type": "display_data"
    }
   ],
   "source": [
    "_, axes = plt.subplots(1, 2, sharey=True, figsize=(12,5))\n",
    "\n",
    "sns.barplot(x=\"gender\", y=\"churn\", hue='churn', data=df, estimator=lambda x: len(x) / len(df) * 100, ax=axes[0]);\n",
    "sns.barplot(x=\"homeowner\", y=\"churn\", hue='churn', data=df, estimator=lambda x: len(x) / len(df) * 100, ax=axes[1]);"
   ]
  },
  {
   "cell_type": "code",
   "execution_count": 74,
   "metadata": {},
   "outputs": [
    {
     "data": {
      "image/png": "[encoded data removed]",
      "text/plain": [
       "<Figure size 864x360 with 2 Axes>"
      ]
     },
     "metadata": {},
     "output_type": "display_data"
    }
   ],
   "source": [
    "_, axes = plt.subplots(1, 2, sharey=True, figsize=(12,5))\n",
    "\n",
    "sns.barplot(x=\"education\", y=\"churn\", hue='churn', data=df, estimator=lambda x: len(x) / len(df) * 100, ax=axes[0]);\n",
    "sns.barplot(x=\"occupation\", y=\"churn\", hue='churn', data=df, estimator=lambda x: len(x) / len(df) * 100, ax=axes[1]);"
   ]
  },
  {
   "cell_type": "markdown",
   "metadata": {},
   "source": [
    "Последние две диаграмы, а также анализ этих характеристик выше натолкнули на мысль построить еще пару графиков.<br>\n",
    "Зависимость оттока от возраста и годового дохода."
   ]
  },
  {
   "cell_type": "code",
   "execution_count": 75,
   "metadata": {},
   "outputs": [
    {
     "data": {
      "image/png": "[encoded data removed]",
      "text/plain": [
       "<Figure size 690.375x216 with 1 Axes>"
      ]
     },
     "metadata": {},
     "output_type": "display_data"
    },
    {
     "data": {
      "image/png": "[encoded data removed]",
      "text/plain": [
       "<Figure size 690.375x216 with 1 Axes>"
      ]
     },
     "metadata": {},
     "output_type": "display_data"
    }
   ],
   "source": [
    "# Построим зависимость churn от возраста и годового дохода\n",
    "plot_distribution(df, 'age', 'churn')\n",
    "plot_distribution(df, 'annualincome', 'churn')"
   ]
  },
  {
   "cell_type": "markdown",
   "metadata": {},
   "source": [
    "**Вывод:**  Видим, что к уходу склонны абоненты в возрасте от 20 до 40лет, а также пользователи с большим годовым доходом, начиная от 150.000. Первое объясняется бОльшей мобильность и интересом попробовать новое."
   ]
  },
  {
   "cell_type": "code",
   "execution_count": 76,
   "metadata": {},
   "outputs": [
    {
     "data": {
      "image/png": "[encoded data removed]",
      "text/plain": [
       "<Figure size 576x360 with 1 Axes>"
      ]
     },
     "metadata": {},
     "output_type": "display_data"
    }
   ],
   "source": [
    "sns.boxplot(x='churn', y='totalminsusedinlastmonth', data=df);"
   ]
  },
  {
   "cell_type": "markdown",
   "metadata": {},
   "source": [
    "**Вывод:**  Удивительно те, кто попал в отток в среднем использовали связь в прошлом месяце чуть-чуть больше. <br>\n",
    "Возможно это конечно погрешность, тк разница небольшая, но в то же время для тех пользователь, \n",
    "кто потенциально может уйти<br> компания может сделать тариф чуть подешелве, тем самым увеличи лояльность абонента, и скорее всего останется."
   ]
  },
  {
   "cell_type": "markdown",
   "metadata": {},
   "source": [
    "Посмотрим еще на некоторые закономерности, которе удалось найти."
   ]
  },
  {
   "cell_type": "code",
   "execution_count": 77,
   "metadata": {},
   "outputs": [
    {
     "data": {
      "image/png": "[encoded data removed]",
      "text/plain": [
       "<Figure size 690.375x216 with 1 Axes>"
      ]
     },
     "metadata": {},
     "output_type": "display_data"
    },
    {
     "data": {
      "image/png": "[encoded data removed]",
      "text/plain": [
       "<Figure size 690.375x216 with 1 Axes>"
      ]
     },
     "metadata": {},
     "output_type": "display_data"
    },
    {
     "data": {
      "image/png": "[encoded data removed]",
      "text/plain": [
       "<Figure size 690.375x216 with 1 Axes>"
      ]
     },
     "metadata": {},
     "output_type": "display_data"
    }
   ],
   "source": [
    "plot_distribution(df, 'monthlybilledamount', 'churn')\n",
    "plot_distribution(df, 'numdayscontractequipmentplanexpiring', 'churn')\n",
    "plot_distribution(df, 'penaltytoswitch', 'churn')"
   ]
  },
  {
   "cell_type": "markdown",
   "metadata": {},
   "source": [
    "**Выводы:**\n",
    "* При monthlybilledamount в окрестности 110, пользователь склонен к уходу, а также при значении более 115\n",
    "* При numdayscontractequipmentplanexpiring в окрестности 30 абонент наиболее склонен к уходу\n",
    "* При penaltytoswitch более 100 абонент начинает быть более склонен к уходу. \n"
   ]
  },
  {
   "cell_type": "markdown",
   "metadata": {},
   "source": [
    "\n",
    "# 4. Закономерности, \"инсайты\", особенности данных."
   ]
  },
  {
   "cell_type": "markdown",
   "metadata": {},
   "source": [
    "Найдены и выдвинуты предположения о природе различных закономерностей, найденных в предыдущих пунктах.<br>\n",
    "Также важно заметить то, что наша целевая переменная распределена неравномерно.<br> \n",
    "Это нужно будет учесть при выборе метрики.<br>\n",
    "\n",
    "**По проведённому анализу можно сделать выводы:**<br>\n",
    "* Сильная зависит между оттоком и numberofcomplaints (количеством жалоб в сервисный центр) и unpaidbalance (неоплаченным балансом).  \n",
    "    *  После третьего обращения в службу жалоб отток резко возрастает. <br>\n",
    "    *  Также при задолжности на балансе более 210, пользователь скорее всего уйдет.\n",
    "* Наблюдается некоторая сезонность, к 3 месяцу отток клиентов увеличивается.\n",
    "* К уходу склонны абоненты в возрасте от 20 до 40лет, а также пользователи с большим годовым доходом, начиная от 150.000. \n",
    "    * Из возраста следует,также на это показали данные: школьники и бакалавры склонны к уходу больше и\n",
    "    * Пользователи со степенью PhD, видимо из-за хорошей зарплаты, либо переезда на место исследований.\n",
    "* Также часто попадают в отток те, кто не владеет недвижимостью, предположительно из-за переездов.\n",
    "* В некоторых штатах процент оттока больше, чем в других, причем разница между ними существенная.  \n",
    "\n",
    "**Все эти исследования были важны, тк**: \n",
    "* Теперь мы можем представить портрет пользователя, который скорее всего уйдет от нас.\n",
    "* Использовать эти данные, как новые признаки для обучения модели.\n"
   ]
  },
  {
   "cell_type": "markdown",
   "metadata": {},
   "source": [
    "# 5. Выбор метрики и ее обоснование"
   ]
  },
  {
   "cell_type": "markdown",
   "metadata": {},
   "source": [
    "\n",
    "Для задач бинарной классификации обычно используются следующие метрики:<br>\n",
    "\n",
    "* Доля правильных ответов(Accuracy)<br>\n",
    "* Полнота(Recall)<br>\n",
    "* Точность (Precision)<br>\n",
    "* Среднее гармоническое Recall и Precision (F1-Score)<br>\n",
    "* LogLoss<br>\n",
    "* Площадь по ROC-кривой (ROC-AUC)<br>\n",
    "\n",
    "В данной задаче целевой класс несбалансирован (90.8% / 9.1%).<br>\n",
    "Также для применения модели в жизни нужно оценивать вероятность того, что клиент уйдет, чтобы выбрать оптимальный порог принятия решения на кого воздействовать различными способами. \n",
    "Таким образом, наиболее подходящей метрикой является ROC-AUC."
   ]
  },
  {
   "cell_type": "markdown",
   "metadata": {},
   "source": [
    "# 6. Предобработка данных"
   ]
  },
  {
   "cell_type": "markdown",
   "metadata": {},
   "source": [
    "Когда просматривалась информация по конкретным customerid, был замечен такой интересный факт, что информация везде совпадает\n",
    "кроме колонок totalcallduration и avgcallduration. \n",
    "Таким образом получается, что в данных может не быть временной зависимость для каждого абонента, например ситуации, когда\n",
    "пользователь первый два месяца не находится в оттоке,а в последний месяц попадает в отток.<br>\n"
   ]
  },
  {
   "cell_type": "code",
   "execution_count": 78,
   "metadata": {},
   "outputs": [
    {
     "data": {
      "text/html": [
       "<div>\n",
       "<style scoped>\n",
       "    .dataframe tbody tr th:only-of-type {\n",
       "        vertical-align: middle;\n",
       "    }\n",
       "\n",
       "    .dataframe tbody tr th {\n",
       "        vertical-align: top;\n",
       "    }\n",
       "\n",
       "    .dataframe thead th {\n",
       "        text-align: right;\n",
       "    }\n",
       "</style>\n",
       "<table border=\"1\" class=\"dataframe\">\n",
       "  <thead>\n",
       "    <tr style=\"text-align: right;\">\n",
       "      <th></th>\n",
       "      <th>19</th>\n",
       "      <th>20</th>\n",
       "      <th>21</th>\n",
       "    </tr>\n",
       "  </thead>\n",
       "  <tbody>\n",
       "    <tr>\n",
       "      <th>age</th>\n",
       "      <td>23</td>\n",
       "      <td>23</td>\n",
       "      <td>23</td>\n",
       "    </tr>\n",
       "    <tr>\n",
       "      <th>annualincome</th>\n",
       "      <td>214765</td>\n",
       "      <td>214765</td>\n",
       "      <td>214765</td>\n",
       "    </tr>\n",
       "    <tr>\n",
       "      <th>calldroprate</th>\n",
       "      <td>0.06</td>\n",
       "      <td>0.06</td>\n",
       "      <td>0.06</td>\n",
       "    </tr>\n",
       "    <tr>\n",
       "      <th>callfailurerate</th>\n",
       "      <td>0.01</td>\n",
       "      <td>0.01</td>\n",
       "      <td>0.01</td>\n",
       "    </tr>\n",
       "    <tr>\n",
       "      <th>callingnum</th>\n",
       "      <td>4251042084</td>\n",
       "      <td>4251042084</td>\n",
       "      <td>4251042084</td>\n",
       "    </tr>\n",
       "    <tr>\n",
       "      <th>customerid</th>\n",
       "      <td>10</td>\n",
       "      <td>10</td>\n",
       "      <td>10</td>\n",
       "    </tr>\n",
       "    <tr>\n",
       "      <th>customersuspended</th>\n",
       "      <td>Yes</td>\n",
       "      <td>Yes</td>\n",
       "      <td>Yes</td>\n",
       "    </tr>\n",
       "    <tr>\n",
       "      <th>education</th>\n",
       "      <td>Bachelor or equivalent</td>\n",
       "      <td>Bachelor or equivalent</td>\n",
       "      <td>Bachelor or equivalent</td>\n",
       "    </tr>\n",
       "    <tr>\n",
       "      <th>gender</th>\n",
       "      <td>Male</td>\n",
       "      <td>Male</td>\n",
       "      <td>Male</td>\n",
       "    </tr>\n",
       "    <tr>\n",
       "      <th>homeowner</th>\n",
       "      <td>Yes</td>\n",
       "      <td>Yes</td>\n",
       "      <td>Yes</td>\n",
       "    </tr>\n",
       "    <tr>\n",
       "      <th>maritalstatus</th>\n",
       "      <td>Single</td>\n",
       "      <td>Single</td>\n",
       "      <td>Single</td>\n",
       "    </tr>\n",
       "    <tr>\n",
       "      <th>monthlybilledamount</th>\n",
       "      <td>30</td>\n",
       "      <td>30</td>\n",
       "      <td>30</td>\n",
       "    </tr>\n",
       "    <tr>\n",
       "      <th>numberofcomplaints</th>\n",
       "      <td>0</td>\n",
       "      <td>0</td>\n",
       "      <td>0</td>\n",
       "    </tr>\n",
       "    <tr>\n",
       "      <th>numberofmonthunpaid</th>\n",
       "      <td>0</td>\n",
       "      <td>0</td>\n",
       "      <td>0</td>\n",
       "    </tr>\n",
       "    <tr>\n",
       "      <th>numdayscontractequipmentplanexpiring</th>\n",
       "      <td>50</td>\n",
       "      <td>50</td>\n",
       "      <td>50</td>\n",
       "    </tr>\n",
       "    <tr>\n",
       "      <th>occupation</th>\n",
       "      <td>Technology Related Job</td>\n",
       "      <td>Technology Related Job</td>\n",
       "      <td>Technology Related Job</td>\n",
       "    </tr>\n",
       "    <tr>\n",
       "      <th>penaltytoswitch</th>\n",
       "      <td>173</td>\n",
       "      <td>173</td>\n",
       "      <td>173</td>\n",
       "    </tr>\n",
       "    <tr>\n",
       "      <th>state</th>\n",
       "      <td>MN</td>\n",
       "      <td>MN</td>\n",
       "      <td>MN</td>\n",
       "    </tr>\n",
       "    <tr>\n",
       "      <th>totalminsusedinlastmonth</th>\n",
       "      <td>13</td>\n",
       "      <td>13</td>\n",
       "      <td>13</td>\n",
       "    </tr>\n",
       "    <tr>\n",
       "      <th>unpaidbalance</th>\n",
       "      <td>34</td>\n",
       "      <td>34</td>\n",
       "      <td>34</td>\n",
       "    </tr>\n",
       "    <tr>\n",
       "      <th>usesinternetservice</th>\n",
       "      <td>No</td>\n",
       "      <td>No</td>\n",
       "      <td>No</td>\n",
       "    </tr>\n",
       "    <tr>\n",
       "      <th>usesvoiceservice</th>\n",
       "      <td>No</td>\n",
       "      <td>No</td>\n",
       "      <td>No</td>\n",
       "    </tr>\n",
       "    <tr>\n",
       "      <th>percentagecalloutsidenetwork</th>\n",
       "      <td>0.94</td>\n",
       "      <td>0.94</td>\n",
       "      <td>0.94</td>\n",
       "    </tr>\n",
       "    <tr>\n",
       "      <th>totalcallduration</th>\n",
       "      <td>3022</td>\n",
       "      <td>3076</td>\n",
       "      <td>626</td>\n",
       "    </tr>\n",
       "    <tr>\n",
       "      <th>avgcallduration</th>\n",
       "      <td>755</td>\n",
       "      <td>615</td>\n",
       "      <td>626</td>\n",
       "    </tr>\n",
       "    <tr>\n",
       "      <th>churn</th>\n",
       "      <td>1</td>\n",
       "      <td>1</td>\n",
       "      <td>1</td>\n",
       "    </tr>\n",
       "    <tr>\n",
       "      <th>month</th>\n",
       "      <td>1</td>\n",
       "      <td>2</td>\n",
       "      <td>3</td>\n",
       "    </tr>\n",
       "  </tbody>\n",
       "</table>\n",
       "</div>"
      ],
      "text/plain": [
       "                                                          19  \\\n",
       "age                                                       23   \n",
       "annualincome                                          214765   \n",
       "calldroprate                                            0.06   \n",
       "callfailurerate                                         0.01   \n",
       "callingnum                                        4251042084   \n",
       "customerid                                                10   \n",
       "customersuspended                                        Yes   \n",
       "education                             Bachelor or equivalent   \n",
       "gender                                                  Male   \n",
       "homeowner                                                Yes   \n",
       "maritalstatus                                         Single   \n",
       "monthlybilledamount                                       30   \n",
       "numberofcomplaints                                         0   \n",
       "numberofmonthunpaid                                        0   \n",
       "numdayscontractequipmentplanexpiring                      50   \n",
       "occupation                            Technology Related Job   \n",
       "penaltytoswitch                                          173   \n",
       "state                                                     MN   \n",
       "totalminsusedinlastmonth                                  13   \n",
       "unpaidbalance                                             34   \n",
       "usesinternetservice                                       No   \n",
       "usesvoiceservice                                          No   \n",
       "percentagecalloutsidenetwork                            0.94   \n",
       "totalcallduration                                       3022   \n",
       "avgcallduration                                          755   \n",
       "churn                                                      1   \n",
       "month                                                      1   \n",
       "\n",
       "                                                          20  \\\n",
       "age                                                       23   \n",
       "annualincome                                          214765   \n",
       "calldroprate                                            0.06   \n",
       "callfailurerate                                         0.01   \n",
       "callingnum                                        4251042084   \n",
       "customerid                                                10   \n",
       "customersuspended                                        Yes   \n",
       "education                             Bachelor or equivalent   \n",
       "gender                                                  Male   \n",
       "homeowner                                                Yes   \n",
       "maritalstatus                                         Single   \n",
       "monthlybilledamount                                       30   \n",
       "numberofcomplaints                                         0   \n",
       "numberofmonthunpaid                                        0   \n",
       "numdayscontractequipmentplanexpiring                      50   \n",
       "occupation                            Technology Related Job   \n",
       "penaltytoswitch                                          173   \n",
       "state                                                     MN   \n",
       "totalminsusedinlastmonth                                  13   \n",
       "unpaidbalance                                             34   \n",
       "usesinternetservice                                       No   \n",
       "usesvoiceservice                                          No   \n",
       "percentagecalloutsidenetwork                            0.94   \n",
       "totalcallduration                                       3076   \n",
       "avgcallduration                                          615   \n",
       "churn                                                      1   \n",
       "month                                                      2   \n",
       "\n",
       "                                                          21  \n",
       "age                                                       23  \n",
       "annualincome                                          214765  \n",
       "calldroprate                                            0.06  \n",
       "callfailurerate                                         0.01  \n",
       "callingnum                                        4251042084  \n",
       "customerid                                                10  \n",
       "customersuspended                                        Yes  \n",
       "education                             Bachelor or equivalent  \n",
       "gender                                                  Male  \n",
       "homeowner                                                Yes  \n",
       "maritalstatus                                         Single  \n",
       "monthlybilledamount                                       30  \n",
       "numberofcomplaints                                         0  \n",
       "numberofmonthunpaid                                        0  \n",
       "numdayscontractequipmentplanexpiring                      50  \n",
       "occupation                            Technology Related Job  \n",
       "penaltytoswitch                                          173  \n",
       "state                                                     MN  \n",
       "totalminsusedinlastmonth                                  13  \n",
       "unpaidbalance                                             34  \n",
       "usesinternetservice                                       No  \n",
       "usesvoiceservice                                          No  \n",
       "percentagecalloutsidenetwork                            0.94  \n",
       "totalcallduration                                        626  \n",
       "avgcallduration                                          626  \n",
       "churn                                                      1  \n",
       "month                                                      3  "
      ]
     },
     "execution_count": 78,
     "metadata": {},
     "output_type": "execute_result"
    }
   ],
   "source": [
    "df[df['customerid']==10].T"
   ]
  },
  {
   "cell_type": "markdown",
   "metadata": {},
   "source": [
    "Попробуем строго доказать или опровергунть эту гипотезу.<br>\n",
    "Для этого удалим колонки totalcallduration и avgcallduration, а также month и пройдемся по всем id пользователей и узнаем <br> есть для какого-то id две разные записи."
   ]
  },
  {
   "cell_type": "code",
   "execution_count": 83,
   "metadata": {},
   "outputs": [
    {
     "name": "stdout",
     "output_type": "stream",
     "text": [
      "Временной зависимости нет\n",
      "CPU times: user 20.4 s, sys: 140 ms, total: 20.5 s\n",
      "Wall time: 20.4 s\n"
     ]
    }
   ],
   "source": [
    "%%time\n",
    "def CheckTimeDependence(df):\n",
    "    # Скопировали DataFrame\n",
    "    df2= df.copy(deep=True)\n",
    "\n",
    "    # Удалим колонки totalcallduration и avgcallduration, month\n",
    "    df2.drop(['totalcallduration', 'avgcallduration', 'month'], axis=1, inplace=True)\n",
    "\n",
    "    # Удалим дубликаты\n",
    "    df2.drop_duplicates(inplace=True)\n",
    "    \n",
    "    # Цикл, проверяющий наличие более 2х записей для абонента\n",
    "    for customer_id in df2['customerid'].values:\n",
    "        if ((df2[df2['customerid']==customer_id].shape[0])==1):\n",
    "            continue\n",
    "        else:\n",
    "            print('Есть временная зависимость')\n",
    "            print('Временная зависимость присуствует для id', customer_id)\n",
    "            break \n",
    "    print('Временной зависимости нет')\n",
    "    \n",
    "CheckTimeDependence(df)"
   ]
  },
  {
   "cell_type": "markdown",
   "metadata": {},
   "source": [
    "**Вывод:** Временной зависимость в разрезе конкретного абонента нет, таким образом для дальнейшего обучения, <br>\n",
    "    можем агрегировать данные по абонентам."
   ]
  },
  {
   "cell_type": "code",
   "execution_count": 84,
   "metadata": {
    "collapsed": true
   },
   "outputs": [],
   "source": [
    "categorical_df = df.loc[:, (df.dtypes == object)].assign(customerid = df['customerid'])\n",
    "categorical_df.drop_duplicates(inplace=True)"
   ]
  },
  {
   "cell_type": "code",
   "execution_count": 85,
   "metadata": {},
   "outputs": [],
   "source": [
    "df = df.groupby(['customerid'], as_index=False).agg([np.mean])\n",
    "df.columns = df.columns.droplevel(1)\n",
    "df = df.join(categorical_df.set_index('customerid'), on='customerid')"
   ]
  },
  {
   "cell_type": "markdown",
   "metadata": {},
   "source": [
    "Так как в нашей задаче есть бинарные и категориальные признаки предобработаем их, чтобы превратить в числовые."
   ]
  },
  {
   "cell_type": "code",
   "execution_count": 86,
   "metadata": {
    "collapsed": true
   },
   "outputs": [],
   "source": [
    "def features_extract(df):\n",
    "    # Преобразуем все категориальные данные в числовые\n",
    "    d = {'Yes': 1, 'No': 0, 'Male':1, 'Female':0 , 'Single':1,'Married':0  }\n",
    "\n",
    "    df['customersuspended'] = df['customersuspended'].map(d)\n",
    "    df['usesinternetservice'] = df['usesinternetservice'].map(d)\n",
    "    df['usesvoiceservice'] = df['usesvoiceservice'].map(d)\n",
    "    df['gender'] = df['gender'].map(d)\n",
    "    df['homeowner'] = df['homeowner'].map(d)\n",
    "    df['maritalstatus'] = df['maritalstatus'].map(d)\n",
    "\n",
    "    # Делаем get_dummies для категориальных признаков \n",
    "    education = pd.get_dummies(df['education'])\n",
    "    occupation = pd.get_dummies(df['occupation'])\n",
    "    state = pd.get_dummies(df['state'])\n",
    "\n",
    "    df = pd.concat([df, education, occupation, state], axis=1)\n",
    "\n",
    "\n",
    "    # Удалим пару неинформативных столбцов, тк по ним сделали get_dummies, \n",
    "    # а также столбец month, тк временной зависимости в данных нет\n",
    "    df.drop(['education','occupation','state', 'month'], axis=1,inplace=True)\n",
    "    \n",
    "    return df\n",
    "\n",
    "df = features_extract(df)"
   ]
  },
  {
   "cell_type": "markdown",
   "metadata": {},
   "source": [
    "# 7. Выбор модели и baseline"
   ]
  },
  {
   "cell_type": "markdown",
   "metadata": {},
   "source": [
    "### 7.1 Выбор модели\n",
    "В качестве моделей будут использоваться:\n",
    "\n",
    "* Логистическую регрессию(LogisticRegression)\n",
    "* Случайный лес(RandomForestClassifier)\n",
    "* Градиентный бустинг над деревьями \n",
    "\n",
    "В принципе, это наиболее часто используемые модели для задач классификаций, где обучающая выборка не очень большая и не сильно разряженная. У каждой модели есть свои плюсы для решаемой задачи:\n",
    "\n",
    "* Логистическая регрессия хороша тем, что легко можно запустить в production, есть интепритируемость;\n",
    "* Случайный лес - даёт хорошее качество без настройки гиперпараметров, не склонен к переобучению;\n",
    "* Градиентный бустинг - возможность получить лучшее качество при настройки гиперпараметров. "
   ]
  },
  {
   "cell_type": "markdown",
   "metadata": {},
   "source": [
    "### 7.2  Baseline для модели."
   ]
  },
  {
   "cell_type": "code",
   "execution_count": 88,
   "metadata": {
    "collapsed": true
   },
   "outputs": [],
   "source": [
    "y = df['churn']\n",
    "X = df.drop(['churn'], axis=1) "
   ]
  },
  {
   "cell_type": "code",
   "execution_count": 89,
   "metadata": {
    "collapsed": true
   },
   "outputs": [],
   "source": [
    "#Разбиение выборки на train и test, первый 'baseline'\n",
    "X_train, X_val, y_train, y_val = train_test_split(X, y, test_size=0.30, shuffle=True, stratify=y ,random_state=42)"
   ]
  },
  {
   "cell_type": "code",
   "execution_count": 90,
   "metadata": {},
   "outputs": [
    {
     "data": {
      "text/plain": [
       "0.5001854692701527"
      ]
     },
     "execution_count": 90,
     "metadata": {},
     "output_type": "execute_result"
    }
   ],
   "source": [
    "np.random.seed(42)\n",
    "\n",
    "# Pipeline для Dummy модели, хотя можно было обойтись и без pipeline\n",
    "clf = Pipeline([('std', StandardScaler()),\n",
    "                ('clf', DummyClassifier(strategy='stratified'))]) \n",
    "\n",
    "np.mean(cross_val_score(clf,X_train,y_train,cv=5,scoring='roc_auc'))"
   ]
  },
  {
   "cell_type": "markdown",
   "metadata": {
    "collapsed": true
   },
   "source": [
    "**Вывод:** Ожидаемый результат: ROC-AUC 50%. <br>\n",
    "Мы просто предсказываем вероятность ухода клиента согласно распределению наших классов, <br>\n",
    "те с вероятностью  90,8% клиент останется, а с 9,1% уйдет.<br>\n",
    "Это наш baseline. \n"
   ]
  },
  {
   "cell_type": "markdown",
   "metadata": {},
   "source": [
    "# 8. Кросс-валидация и настройка гиперпараметров модели"
   ]
  },
  {
   "cell_type": "markdown",
   "metadata": {
    "collapsed": true
   },
   "source": [
    "Посмотрим на результаты классификаторов без добавление новых признаков"
   ]
  },
  {
   "cell_type": "code",
   "execution_count": 91,
   "metadata": {
    "collapsed": true
   },
   "outputs": [],
   "source": [
    "classifiers = [LogisticRegression(),\n",
    "               KNeighborsClassifier(),\n",
    "               GradientBoostingClassifier(), \n",
    "               RandomForestClassifier()] \n",
    "#               SVC()] # \n",
    "classifiers_name = ['LogisticRegression',\n",
    "                    'KNeighborsClassifier',\n",
    "                    'GradientBoostingClassifier', \n",
    "                    'RandomForestClassifier'] \n",
    "#                    'SVC']\n"
   ]
  },
  {
   "cell_type": "code",
   "execution_count": 92,
   "metadata": {
    "collapsed": true
   },
   "outputs": [],
   "source": [
    "# Настройка параметров выбранных алгоритмов с помощью GridSearchCV \n",
    "n_folds = 5\n",
    "scores = []\n",
    "fits = []\n",
    "logistic_params = {'clf__penalty': ('l1', 'l2'),\n",
    "                   'clf__C': (.01,.1,1,5)}\n",
    "knn_params = {'clf__n_neighbors': list(range(3, 12, 2))}\n",
    "gbm_params = {'clf__n_estimators': [100, 300, 500],\n",
    "              'clf__learning_rate':(0.1, 0.5, 1),\n",
    "              'clf__max_depth': list(range(3, 6)), \n",
    "              'clf__min_samples_leaf': list(range(10, 31, 10))}\n",
    "forest_params = {'clf__n_estimators': [100, 300, 500],\n",
    "                 'clf__criterion': ('gini', 'entropy'), \n",
    "                 'clf__max_depth': list(range(3, 6)), \n",
    "                 'clf__min_samples_leaf': list(range(10, 31, 10))}\n",
    "\n",
    "#svm_param = {'kernel' : ('linear', 'rbf'), 'C': (.5, 1, 2)} - очень долго считал\n",
    "params = [logistic_params, knn_params, gbm_params, forest_params]"
   ]
  },
  {
   "cell_type": "code",
   "execution_count": 14,
   "metadata": {},
   "outputs": [
    {
     "name": "stdout",
     "output_type": "stream",
     "text": [
      "LogisticRegression 0.6449871767377392 \n",
      " {'clf__C': 0.1, 'clf__penalty': 'l1'} \n",
      "\n",
      "KNeighborsClassifier 0.5133641695104244 \n",
      " {'clf__n_neighbors': 3} \n",
      "\n",
      "GradientBoostingClassifier 0.7011281414164963 \n",
      " {'clf__learning_rate': 0.1, 'clf__max_depth': 3, 'clf__min_samples_leaf': 10, 'clf__n_estimators': 100} \n",
      "\n",
      "RandomForestClassifier 0.7074815527744652 \n",
      " {'clf__criterion': 'gini', 'clf__max_depth': 3, 'clf__min_samples_leaf': 30, 'clf__n_estimators': 100} \n",
      "\n",
      "CPU times: user 20.8 s, sys: 2.76 s, total: 23.5 s\n",
      "Wall time: 42min\n"
     ]
    }
   ],
   "source": [
    "%%time\n",
    "np.random.seed(42)\n",
    "\n",
    "for i, each_classifier in enumerate(classifiers):\n",
    "    clf = each_classifier\n",
    "    clf_params = params[i]\n",
    "    clf = Pipeline([('std', StandardScaler()),\n",
    "                    ('clf', clf)])  \n",
    "    grid = GridSearchCV(clf, clf_params, \n",
    "                        cv=5, \n",
    "                        n_jobs=-1, scoring=\"roc_auc\")\n",
    "    grid.fit(X_train, y_train)\n",
    "    fits.append(grid.best_params_)\n",
    "    clf_best_score = grid.best_score_\n",
    "    scores.append(clf_best_score)\n",
    "    print(classifiers_name[i], clf_best_score, \"\\n\", grid.best_params_, \"\\n\")"
   ]
  },
  {
   "cell_type": "markdown",
   "metadata": {
    "collapsed": true
   },
   "source": [
    "**Вывод:** Наша модель уже улучшила baseline.  Теперь попробуем добавить новые признаки и еще улучшить метрику.<br>\n",
    "Пронаблюдаем за поведением двух моделей, RandomForestClassifier и GradientBoostingClassifier тк результаты у них очень схожи."
   ]
  },
  {
   "cell_type": "markdown",
   "metadata": {},
   "source": [
    "# 9. Создание новых признаков и описание этого процесса "
   ]
  },
  {
   "cell_type": "code",
   "execution_count": 93,
   "metadata": {},
   "outputs": [
    {
     "name": "stdout",
     "output_type": "stream",
     "text": [
      "CPU times: user 188 ms, sys: 12.1 ms, total: 200 ms\n",
      "Wall time: 204 ms\n"
     ]
    }
   ],
   "source": [
    "%%time\n",
    "\n",
    "#По честному еще раз считываем данные\n",
    "df = pd.read_csv('telco-customer-churn.csv')\n",
    "\n",
    "# Удаляем 'year' и 'noadditionallines'\n",
    "df.drop(['year','noadditionallines'], axis=1,inplace=True)"
   ]
  },
  {
   "cell_type": "code",
   "execution_count": 94,
   "metadata": {
    "collapsed": true
   },
   "outputs": [],
   "source": [
    "# Выделяем категориальные признаки \n",
    "categorical_df = df.loc[:, (df.dtypes == object)].assign(customerid = df['customerid'])\n",
    "categorical_df.drop_duplicates(inplace=True)\n",
    "\n",
    "# Агрегируем информацию\n",
    "df = df.groupby(['customerid'], as_index=False).agg([np.mean])\n",
    "df.columns = df.columns.droplevel(1)\n",
    "df = df.join(categorical_df.set_index('customerid'), on='customerid')"
   ]
  },
  {
   "cell_type": "markdown",
   "metadata": {},
   "source": [
    "**Новые признаки:**\n",
    "* Целевая услуга мобильной связи - это звонки, поэтому создадим новый признак \"стоимость минуты звонка\".\n",
    "* Выделим в отдельную переменную штаты, в которых наибольших процент оттока.\n",
    "* Выделим отдельно интервал возраста, когда пользователи уходят.\n",
    "* Тк totalcallduration и avgcallduration зависимы удалим первый."
   ]
  },
  {
   "cell_type": "code",
   "execution_count": 95,
   "metadata": {
    "collapsed": true
   },
   "outputs": [],
   "source": [
    "# Стоимость минуты разговора \n",
    "df['costofminute'] = (df['monthlybilledamount'] / df['totalminsusedinlastmonth']).round(2)\n",
    "\n",
    "# Выделим в отдельную переменную штаты,в которых наибольших процент оттока\n",
    "df2 = df.groupby(['state'])['churn'].agg([np.mean]).sort_values(by='mean', ascending=False)\n",
    "# штаты, в которых наибольший отток \n",
    "state = df2[df2['mean']>0.10].index.values\n",
    "df['state_most_churn'] = df['state'].map(lambda x: 1 if x in state else 0)\n",
    "\n",
    "# Выделим отдельно интервал возраста, когда пользователи уходят\n",
    "df['age_most_churn'] = df['age'].map(lambda x: 1 if  20<=x<=30 else 0 )"
   ]
  },
  {
   "cell_type": "code",
   "execution_count": 96,
   "metadata": {},
   "outputs": [
    {
     "data": {
      "image/png": "[encoded data removed]",
      "text/plain": [
       "<Figure size 576x360 with 2 Axes>"
      ]
     },
     "metadata": {},
     "output_type": "display_data"
    }
   ],
   "source": [
    "#Построим матрицу корреляции\n",
    "plt.figure(figsize=(8,5))\n",
    "corr_matrix=df[['costofminute', 'state_most_churn', 'age_most_churn' ,'churn']].corr()\n",
    "sns.heatmap(corr_matrix, cmap='YlGnBu');"
   ]
  },
  {
   "cell_type": "markdown",
   "metadata": {},
   "source": [
    "**Вывод:** Видим, что \"стоимость минуты звонка\" плохо коррелирует с целевой переменной, поэтому удалим ее, а другие признаки добавим в модель и посмотрим на результат."
   ]
  },
  {
   "cell_type": "code",
   "execution_count": 97,
   "metadata": {
    "collapsed": true
   },
   "outputs": [],
   "source": [
    "# Преобрабатываем все категориальные признаки\n",
    "df = features_extract(df)"
   ]
  },
  {
   "cell_type": "code",
   "execution_count": 98,
   "metadata": {
    "collapsed": true
   },
   "outputs": [],
   "source": [
    "df.drop(['totalcallduration','costofminute'], axis=1,inplace=True)"
   ]
  },
  {
   "cell_type": "code",
   "execution_count": 99,
   "metadata": {
    "collapsed": true
   },
   "outputs": [],
   "source": [
    "y = df['churn']\n",
    "X = df.drop(['churn'], axis=1) "
   ]
  },
  {
   "cell_type": "code",
   "execution_count": 100,
   "metadata": {
    "collapsed": true
   },
   "outputs": [],
   "source": [
    "#Разбиение выборки на train и test, первый 'baseline'\n",
    "X_train, X_val, y_train, y_val = train_test_split(X, y, test_size=0.30, shuffle=True, stratify=y, random_state=42)"
   ]
  },
  {
   "cell_type": "code",
   "execution_count": 101,
   "metadata": {},
   "outputs": [
    {
     "name": "stdout",
     "output_type": "stream",
     "text": [
      "0.707353915542195\n",
      "CPU times: user 16.4 s, sys: 3.87 ms, total: 16.4 s\n",
      "Wall time: 16.4 s\n"
     ]
    }
   ],
   "source": [
    "%%time\n",
    "np.random.seed(42)\n",
    "grb = GradientBoostingClassifier(learning_rate = 0.1, max_depth = 3, min_samples_leaf = 10, n_estimators =100)\n",
    "clf_grb = Pipeline([('std', StandardScaler()),\n",
    "                    ('clf', grb)])  \n",
    "\n",
    "# Замеряем результат модели\n",
    "print(np.mean(cross_val_score(clf_grb,X_train,y_train,cv=5,scoring='roc_auc')))"
   ]
  },
  {
   "cell_type": "code",
   "execution_count": 102,
   "metadata": {},
   "outputs": [
    {
     "name": "stdout",
     "output_type": "stream",
     "text": [
      "0.7018968785360992\n",
      "CPU times: user 2.54 s, sys: 3.98 ms, total: 2.54 s\n",
      "Wall time: 2.54 s\n"
     ]
    }
   ],
   "source": [
    "%%time\n",
    "np.random.seed(42)\n",
    "rfr = RandomForestClassifier(criterion = 'gini', max_depth = 3, min_samples_leaf = 30, n_estimators =100)\n",
    "clf_rfr = Pipeline([('std', StandardScaler()),\n",
    "                    ('clf', rfr)])  # Вообще для RandomForest можно не делать  StandardScaler\n",
    "# Замеряем результат модели\n",
    "print(np.mean(cross_val_score(clf_rfr,X_train,y_train,cv=3,scoring='roc_auc')))"
   ]
  },
  {
   "cell_type": "markdown",
   "metadata": {},
   "source": [
    "**Вывод:** Добавление новых признаков улучшило модель GradientBoostingClassifier (предыдущий результат был 0.7011), <br>\n",
    "но ухудшило RandomForestClassifier (предыдущий результат был 0.7074). Такой результат тоже неплохой. <br> \n",
    "Дальше стоит работать над перебором признаков."
   ]
  },
  {
   "cell_type": "markdown",
   "metadata": {},
   "source": [
    "Выведем фичи наиболее сильно оказавшие на результат модели."
   ]
  },
  {
   "cell_type": "code",
   "execution_count": 103,
   "metadata": {},
   "outputs": [
    {
     "data": {
      "text/plain": [
       "[(0.11507048408265522, 'unpaidbalance'),\n",
       " (0.11370015427483855, 'age'),\n",
       " (0.09409072267745122, 'avgcallduration'),\n",
       " (0.08670034550662181, 'annualincome'),\n",
       " (0.08063264059658337, 'penaltytoswitch'),\n",
       " (0.07942553370177162, 'callingnum'),\n",
       " (0.07564782265332795, 'percentagecalloutsidenetwork'),\n",
       " (0.07307540243104507, 'totalminsusedinlastmonth'),\n",
       " (0.057545970255569755, 'monthlybilledamount'),\n",
       " (0.04824982945856348, 'numberofcomplaints')]"
      ]
     },
     "execution_count": 103,
     "metadata": {},
     "output_type": "execute_result"
    }
   ],
   "source": [
    "# GradientBoostingClassifier\n",
    "\n",
    "clf_grb.fit(X_train,y_train)\n",
    "features = list(zip(grb.feature_importances_,X_train.columns))\n",
    "sorted(features, key=lambda x: x[0], reverse=True)[:10]"
   ]
  },
  {
   "cell_type": "code",
   "execution_count": 104,
   "metadata": {},
   "outputs": [
    {
     "data": {
      "text/plain": [
       "[(0.22314229333590166, 'age'),\n",
       " (0.15475490275628925, 'unpaidbalance'),\n",
       " (0.0886567732447171, 'age_most_churn'),\n",
       " (0.07622755356783376, 'numberofcomplaints'),\n",
       " (0.04971087477269862, 'callingnum'),\n",
       " (0.04630777333659315, 'percentagecalloutsidenetwork'),\n",
       " (0.041420731494471334, 'totalminsusedinlastmonth'),\n",
       " (0.03864527848424697, 'state_most_churn'),\n",
       " (0.03449434879221191, 'avgcallduration'),\n",
       " (0.030130320816290922, 'annualincome')]"
      ]
     },
     "execution_count": 104,
     "metadata": {},
     "output_type": "execute_result"
    }
   ],
   "source": [
    "# RandomForestClassifier\n",
    "\n",
    "clf_rfr.fit(X_train,y_train)\n",
    "features = list(zip(rfr.feature_importances_,X_train.columns))\n",
    "sorted(features, key=lambda x: x[0], reverse=True)[:10]"
   ]
  },
  {
   "cell_type": "markdown",
   "metadata": {},
   "source": [
    "**Вывод:** Видим, что созданные нами признаки вошли в топ-10, в RandomForestClassifier, находятся на 4 и 8 месте по значимости."
   ]
  },
  {
   "cell_type": "markdown",
   "metadata": {},
   "source": [
    "# 10. Построение кривых валидации и обучения"
   ]
  },
  {
   "cell_type": "code",
   "execution_count": 105,
   "metadata": {
    "collapsed": true
   },
   "outputs": [],
   "source": [
    "# Кривые обучения и валидации\n",
    "def plot_with_std(x, data, **kwargs):\n",
    "        mu, std = data.mean(1), data.std(1)\n",
    "        lines = plt.plot(x, mu, '-', **kwargs)\n",
    "        plt.fill_between(x, mu - std, mu + std, edgecolor='none',\n",
    "                         facecolor=lines[0].get_color(), alpha=0.2)\n",
    "        \n",
    "def plot_learning_curve(clf, X, y, scoring, cv=5):\n",
    " \n",
    "    train_sizes = np.linspace(0.05, 1, 20)\n",
    "    n_train, val_train, val_test = learning_curve(clf,\n",
    "                                                  X, y, train_sizes, cv=cv,\n",
    "                                                  scoring=scoring)\n",
    "    plot_with_std(n_train, val_train, label='training scores', c='green')\n",
    "    plot_with_std(n_train, val_test, label='validation scores', c='red')\n",
    "    plt.xlabel('Training Set Size'); plt.ylabel(scoring)\n",
    "    plt.legend()\n",
    "\n",
    "def plot_validation_curve(clf, X, y, cv_param_name, \n",
    "                          cv_param_values, scoring):\n",
    "\n",
    "    val_train, val_test = validation_curve(clf, X, y, cv_param_name,\n",
    "                                           cv_param_values, cv=5,\n",
    "                                                  scoring=scoring)\n",
    "    plot_with_std(cv_param_values, val_train, \n",
    "                  label='training scores', c='green')\n",
    "    plot_with_std(cv_param_values, val_test, \n",
    "                  label='validation scores', c='red')\n",
    "    plt.xlabel(cv_param_name); plt.ylabel(scoring)\n",
    "    plt.legend()"
   ]
  },
  {
   "cell_type": "code",
   "execution_count": 46,
   "metadata": {},
   "outputs": [
    {
     "name": "stdout",
     "output_type": "stream",
     "text": [
      "CPU times: user 3min 6s, sys: 50.1 ms, total: 3min 6s\n",
      "Wall time: 3min 6s\n"
     ]
    },
    {
     "data": {
      "image/png": "[encoded data removed]",
      "text/plain": [
       "<Figure size 576x360 with 1 Axes>"
      ]
     },
     "metadata": {},
     "output_type": "display_data"
    }
   ],
   "source": [
    "%%time\n",
    "# Кривая обучения GradientBoostingClassifier\n",
    "plot_learning_curve(clf_grb, X_train, y_train, scoring='roc_auc', cv=5)"
   ]
  },
  {
   "cell_type": "markdown",
   "metadata": {},
   "source": [
    "**Вывод:** Кривая валидации GradientBoostingClassifier показывает, что увеличение количества данных, может привести к улучшению модели "
   ]
  },
  {
   "cell_type": "code",
   "execution_count": 215,
   "metadata": {},
   "outputs": [
    {
     "name": "stdout",
     "output_type": "stream",
     "text": [
      "CPU times: user 5min 34s, sys: 251 ms, total: 5min 34s\n",
      "Wall time: 5min 34s\n"
     ]
    },
    {
     "data": {
      "image/png": "[encoded data removed]",
      "text/plain": [
       "<Figure size 576x360 with 1 Axes>"
      ]
     },
     "metadata": {},
     "output_type": "display_data"
    }
   ],
   "source": [
    "%%time\n",
    "# Кривая валидации GradientBoostingClassifier\n",
    "learning_rates = np.linspace(0.01, 2.3, 20)\n",
    "plot_validation_curve(clf_grb, X_train, y_train, \n",
    "                    cv_param_name='learning_rate', \n",
    "                    cv_param_values=learning_rates,\n",
    "                    scoring='roc_auc')"
   ]
  },
  {
   "cell_type": "markdown",
   "metadata": {},
   "source": [
    "**Вывод** Выбрана довольно сложная модель, возможно стоит подумать над регуляризацией."
   ]
  },
  {
   "cell_type": "markdown",
   "metadata": {},
   "source": [
    "# 11. Прогноз для  отложенной выборки"
   ]
  },
  {
   "cell_type": "code",
   "execution_count": 106,
   "metadata": {},
   "outputs": [
    {
     "data": {
      "text/plain": [
       "Pipeline(memory=None,\n",
       "     steps=[('std', StandardScaler(copy=True, with_mean=True, with_std=True)), ('clf', RandomForestClassifier(bootstrap=True, class_weight=None, criterion='gini',\n",
       "            max_depth=3, max_features='auto', max_leaf_nodes=None,\n",
       "            min_impurity_decrease=0.0, min_impurity_split=None,\n",
       "           ...n_jobs=1,\n",
       "            oob_score=False, random_state=None, verbose=0,\n",
       "            warm_start=False))])"
      ]
     },
     "execution_count": 106,
     "metadata": {},
     "output_type": "execute_result"
    }
   ],
   "source": [
    "# Обучаем модель\n",
    "clf_grb.fit(X_train,y_train)\n",
    "clf_rfr.fit(X_train,y_train)"
   ]
  },
  {
   "cell_type": "code",
   "execution_count": 107,
   "metadata": {
    "collapsed": true
   },
   "outputs": [],
   "source": [
    "# Делаем предсказание\n",
    "y_pred_proba_grb = clf_grb.predict_proba(X_val)\n",
    "y_pred_proba_rfr = clf_rfr.predict_proba(X_val)\n"
   ]
  },
  {
   "cell_type": "code",
   "execution_count": 108,
   "metadata": {},
   "outputs": [
    {
     "name": "stdout",
     "output_type": "stream",
     "text": [
      "ROC-AUC GradientBoostingClassifier:  0.7129740608228979\n",
      "ROC-AUC RandomForestClassifier :  0.6931753130590339\n"
     ]
    }
   ],
   "source": [
    "print('ROC-AUC GradientBoostingClassifier: ', roc_auc_score(y_val,y_pred_proba_grb[:,1]))\n",
    "print('ROC-AUC RandomForestClassifier : ', roc_auc_score(y_val,y_pred_proba_rfr[:,1]))      "
   ]
  },
  {
   "cell_type": "markdown",
   "metadata": {},
   "source": [
    "**Вывод:** Результат получился почти такие же как и на валидации, значит мы валидировали наши модели правильно.<br>\n",
    "При этом на тестовой выборке GradientBoostingClassifier показал результаты лучше, чем RandomForestClassifier, <br> вот почему ранее было принято решение рассматривать не одну, а две модели после подбора параметров."
   ]
  },
  {
   "cell_type": "markdown",
   "metadata": {},
   "source": [
    "# 12. Результаты работы"
   ]
  },
  {
   "cell_type": "markdown",
   "metadata": {},
   "source": [
    "**Техническая задача:**<br>\n",
    "По итогу была построена модель, предсказывающая отток абонентов. <br>\n",
    "Полученное качество модели, оцененное с помощью метрики ROC-AUС составляет 0.71, что говорит о высокой предсказательной способности модели.\n",
    "\n",
    "**Бизнес-задача:**<br>\n",
    "Теперь для бизнеса есть модель, которая может предсказывать, отток клиентов.<br>\n",
    "\n",
    "*Способы применения:*<br>\n",
    "* 1) Предсказывать для конкретного абонента вероятность того, что он уйдет. Далее нужно провести еще математические исследования, чтобы понять начиная с какого порога, считать клиента ушедшим.\n",
    "С точки зрения бизнеса, я бы сделал цепочку взаимодействия с пользователем, если его вероянсть уйти становится выше 50%. Например: если вероятность уйти составила бы 60% предложил бы бонус, если вероятность все равно ростет, то предложил бы еще более существенный бонус и тд... Те давал бы клиенту бонус не на последнем этапе, когда он хочет уходить, а разбил бы на небольшие интервал от 50% до 99%, и на каждом из них взаимодействовал бы с пользователем. \n",
    "* 2) При планировании бюджета. Отслеживание метрик бизнеса и планирование выручки на следующий месяц."
   ]
  },
  {
   "cell_type": "markdown",
   "metadata": {},
   "source": [
    "# 13. Что можно сделать еще"
   ]
  },
  {
   "cell_type": "markdown",
   "metadata": {},
   "source": [
    "**Feature Engineering**<br>\n",
    "Создать еще больше признаков, тк зачастую создание признаков намного важнее чем тюнинг модели.<br>\n",
    "Например:\n",
    "* mean target кодирование признаков, а также попарно перемножая существующие признаки и их кодирование тоже.<br>\n",
    "При этом подходе нужно быть осторожным с валидацией, чтобы не было leak(ов).\n",
    "* перебор признаков: выбор оптимального количества. Скорее всего здесь бы использовал жадный алгоритм. \n",
    "\n",
    "**Моделирование**\n",
    "* Стоит еще раз попробовать LogisticRegression предварительно отшкалировав данные. И построив ее на новых признаках. Если удасться добиться качества сравнимого с алгоритмами бустинга, то логистическая регрессия является более перспектиным алгоритмом, тк легко внедряется в production.\n",
    "* Так как \"градиентный бустинг\" показал себя хорошо. Стоит попробовать другие бустинг алгоритмы на тех же параметрах, <br> например (xgboost, lightgbm, catboost) и далее уже приступить к более тщательному тюнингу одного их них.\n",
    "* Использовать blending моделей: усреднить показатели от всех моделей.\n"
   ]
  }
 ],
 "metadata": {
  "kernelspec": {
   "display_name": "Python 3",
   "language": "python",
   "name": "python3"
  },
  "language_info": {
   "codemirror_mode": {
    "name": "ipython",
    "version": 3
   },
   "file_extension": ".py",
   "mimetype": "text/x-python",
   "name": "python",
   "nbconvert_exporter": "python",
   "pygments_lexer": "ipython3",
   "version": "3.6.5"
  }
 },
 "nbformat": 4,
 "nbformat_minor": 2
}
