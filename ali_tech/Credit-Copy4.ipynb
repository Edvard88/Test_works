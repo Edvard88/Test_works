version https://git-lfs.github.com/spec/v1
oid sha256:5cb07d7cb16cbbe18f629aa21b8283d7b8bf929a624e0fbfaadb1ebfa2ebcd0a
size 7363616
