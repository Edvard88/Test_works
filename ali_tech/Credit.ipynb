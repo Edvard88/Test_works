version https://git-lfs.github.com/spec/v1
oid sha256:2dc74dd1b7be90e8033a43fb6b9121fd515d906cccec947d03a3f8ad5a71ccd3
size 3895287
