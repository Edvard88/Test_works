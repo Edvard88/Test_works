version https://git-lfs.github.com/spec/v1
oid sha256:4f89c3057a0aa7a80033aa50af818fadcfb2c0a0af9c23b497818ecb1b90c566
size 522674
