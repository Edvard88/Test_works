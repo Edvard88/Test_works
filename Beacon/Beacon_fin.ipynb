version https://git-lfs.github.com/spec/v1
oid sha256:c440dbcb521492f3b2eca4040db8b23f6c887442a58649135f5ae238902c3bad
size 8112914
