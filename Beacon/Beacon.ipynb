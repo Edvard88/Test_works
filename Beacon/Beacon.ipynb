version https://git-lfs.github.com/spec/v1
oid sha256:ee75d073a3ca14b27a09e65def90ae964c52aa923356eb59c1bed88ff6c2512e
size 9695127
