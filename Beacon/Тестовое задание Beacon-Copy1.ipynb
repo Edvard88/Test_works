version https://git-lfs.github.com/spec/v1
oid sha256:5b1059652e2efc938353902ab239e5342d78ac838dfb504995256aa97aa227dd
size 1818385
