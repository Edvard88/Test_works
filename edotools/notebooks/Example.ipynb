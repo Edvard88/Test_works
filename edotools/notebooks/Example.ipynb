version https://git-lfs.github.com/spec/v1
oid sha256:ddd92c0184e69a7250dab0f61ea45ba2ddc3f202a54bf1e39d77e94ebb715ab1
size 86814
